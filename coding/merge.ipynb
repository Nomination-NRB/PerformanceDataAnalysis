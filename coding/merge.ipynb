{
 "cells": [
  {
   "cell_type": "code",
   "execution_count": 1,
   "metadata": {},
   "outputs": [],
   "source": [
    "import pandas as pd"
   ]
  },
  {
   "cell_type": "code",
   "execution_count": 2,
   "metadata": {},
   "outputs": [],
   "source": [
    "keyNamePath='data/key_name.csv'\n",
    "keyTestTConfigPath='data/key_test_t_config.csv'\n",
    "keyTestTScenesPath='data/key_test_t_scenes.csv'\n",
    "keyTestTPath='data/key_test_t.csv'"
   ]
  },
  {
   "cell_type": "code",
   "execution_count": 3,
   "metadata": {},
   "outputs": [],
   "source": [
    "# keyNamePath='backup/forTest/keyName.csv'\n",
    "# keyTestTConfigPath='backup/forTest/keyTestTConfig.csv'\n",
    "# keyTestTScencesPath='backup/forTest/keyTestTScenes.csv'\n",
    "# keyTestTPath='backup/forTest/keyTestT.csv'"
   ]
  },
  {
   "cell_type": "code",
   "execution_count": 4,
   "metadata": {},
   "outputs": [],
   "source": [
    "# Read the data\n",
    "keyName = pd.read_csv(keyNamePath)\n",
    "# 读取keyTestTConfig.csv文件，只保留id, key, value字段，并将字段数据类型改为int64\n",
    "keyTestTConfig = pd.read_csv(keyTestTConfigPath, usecols=['id', 'key', 'value'])\n",
    "# 读取keyTestTScences.csv文件，只保留id, tool_config, tool_env_config, component_config, component_env_config字段\n",
    "keyTestTScenes = pd.read_csv(keyTestTScenesPath, usecols=['id', 'tool_config', 'tool_env_config', 'component_config', 'component_env_config'])\n",
    "# 读取keyTest.csv文件，只保留id, results, scenes_id, dimension字段\n",
    "keyTestT = pd.read_csv(keyTestTPath, usecols=['id', 'results', 'scenes_id', 'dimension'])"
   ]
  },
  {
   "cell_type": "code",
   "execution_count": 5,
   "metadata": {},
   "outputs": [],
   "source": [
    "# 将keyTestTScenes的id字段重命名为Scenes_id\n",
    "keyTestTScenes.rename(columns={'id': 'Scenes_id'}, inplace=True)\n",
    "# 将keyTestTConfig的id字段重命名为Config_id\n",
    "keyTestTConfig.rename(columns={'id': 'Config_id'}, inplace=True)\n",
    "# 将keyTestT的id字段重命名为Test_id\n",
    "keyTestT.rename(columns={'id': 'Test_id'}, inplace=True)\n",
    "# 将keyName的id字段重命名为Name_id\n",
    "keyName.rename(columns={'id': 'Name_id'}, inplace=True)"
   ]
  },
  {
   "cell_type": "code",
   "execution_count": 6,
   "metadata": {},
   "outputs": [],
   "source": [
    "# 将四个文件除去空值\n",
    "keyName = keyName.dropna()\n",
    "keyTestTConfig = keyTestTConfig.dropna()\n",
    "keyTestTScences = keyTestTScenes.dropna()\n",
    "keyTestT = keyTestT.dropna()"
   ]
  },
  {
   "cell_type": "code",
   "execution_count": 49,
   "metadata": {},
   "outputs": [],
   "source": [
    "keyNamet=keyName\n",
    "keyTestTConfigt=keyTestTConfig\n",
    "keyTestTScenest=keyTestTScenes\n",
    "keyTestTt=keyTestT"
   ]
  },
  {
   "cell_type": "code",
   "execution_count": 50,
   "metadata": {},
   "outputs": [],
   "source": [
    "# # 将keyName, keyTestTConfig, keyTestTScences, keyTestT分别取50条数据，保存到backup文件夹下\n",
    "# keyName[:50].to_csv('backup/keyName.csv', index=False)\n",
    "# keyTestTConfig[:50].to_csv('backup/keyTestTConfig.csv', index=False)\n",
    "# keyTestTScences[:50].to_csv('backup/keyTestTScences.csv', index=False)\n",
    "# keyTestT[:50].to_csv('backup/keyTestT.csv', index=False)"
   ]
  },
  {
   "cell_type": "code",
   "execution_count": 51,
   "metadata": {},
   "outputs": [],
   "source": [
    "def changeToNum(value):\n",
    "    # 如果字符串中包含小数点，则去掉小数点后面的内容\n",
    "    try:\n",
    "        if '.' in value:\n",
    "            value = value.split('.')[0]\n",
    "    except:\n",
    "        pass\n",
    "\n",
    "    try:\n",
    "        return int(value)\n",
    "    except:\n",
    "        pass"
   ]
  },
  {
   "cell_type": "code",
   "execution_count": 52,
   "metadata": {},
   "outputs": [
    {
     "name": "stdout",
     "output_type": "stream",
     "text": [
      "<class 'pandas.core.frame.DataFrame'>\n",
      "Int64Index: 648279 entries, 0 to 648278\n",
      "Data columns (total 4 columns):\n",
      " #   Column     Non-Null Count   Dtype \n",
      "---  ------     --------------   ----- \n",
      " 0   Test_id    648279 non-null  object\n",
      " 1   results    648279 non-null  object\n",
      " 2   scenes_id  648279 non-null  object\n",
      " 3   dimension  648279 non-null  object\n",
      "dtypes: object(4)\n",
      "memory usage: 24.7+ MB\n"
     ]
    }
   ],
   "source": [
    "keyTestTt.info()"
   ]
  },
  {
   "cell_type": "code",
   "execution_count": 53,
   "metadata": {},
   "outputs": [
    {
     "name": "stdout",
     "output_type": "stream",
     "text": [
      "<class 'pandas.core.frame.DataFrame'>\n",
      "Int64Index: 235593 entries, 0 to 235593\n",
      "Data columns (total 3 columns):\n",
      " #   Column     Non-Null Count   Dtype \n",
      "---  ------     --------------   ----- \n",
      " 0   Config_id  235593 non-null  object\n",
      " 1   key        235593 non-null  object\n",
      " 2   value      235593 non-null  object\n",
      "dtypes: object(3)\n",
      "memory usage: 7.2+ MB\n"
     ]
    }
   ],
   "source": [
    "keyTestTConfigt.info()"
   ]
  },
  {
   "cell_type": "code",
   "execution_count": 54,
   "metadata": {},
   "outputs": [],
   "source": [
    "# 将keTestT.csv文件通过scenes_id字段作为参照值，如果keyTestTScences.csv文件中id字段的值与scenes_id字段的值相同，则将keyTestTScences.csv文件中的tool_config字段的值赋值给keyTestT.csv文件中的tool_config字段\n",
    "keyTestTt = pd.merge(keyTestTt, keyTestTScenest, left_on='scenes_id', right_on='Scenes_id', how='right')\n",
    "# 将keyTestT中的scenes_id字段去重\n",
    "# keyTestTt = keyTestTt.drop_duplicates(subset=['scenes_id'])\n",
    "keyTestTt.dropna(inplace=True)\n",
    "\n",
    "keyTestTt.drop(columns=['Scenes_id'], inplace=True)"
   ]
  },
  {
   "cell_type": "code",
   "execution_count": 55,
   "metadata": {},
   "outputs": [],
   "source": [
    "configlist = ['tool_config', 'tool_env_config', 'component_config', 'component_env_config']"
   ]
  },
  {
   "cell_type": "code",
   "execution_count": 56,
   "metadata": {},
   "outputs": [],
   "source": [
    "def idToValue(keyTestTt, keyTestTConfigt, configlist):\n",
    "    for config in configlist:\n",
    "        # 将keyTestT.csv文件通过config字段作为参照值，如果keyTestTConfig.csv文件中id字段的值与config字段的值相同，则将keyTestTConfig.csv文件中的value字段的值赋值给keyTestT.csv文件中的config字段\n",
    "        keyTestTt = pd.merge(keyTestTt, keyTestTConfigt[['Config_id','value']], left_on=config, right_on='Config_id', how='left')\n",
    "        keyTestTt.dropna(inplace=True)\n",
    "        # 将tool_config字段的值替换为config\n",
    "        keyTestTt[config] = keyTestTt['value']\n",
    "        # 将value, Config_id字段删除\n",
    "        keyTestTt.drop(['value', 'Config_id'], axis=1, inplace=True)\n",
    "    return keyTestTt"
   ]
  },
  {
   "cell_type": "code",
   "execution_count": 57,
   "metadata": {},
   "outputs": [],
   "source": [
    "# keyTestTt = idToValue(keyTestTt, keyTestTConfigt, configlist)"
   ]
  },
  {
   "cell_type": "code",
   "execution_count": 58,
   "metadata": {},
   "outputs": [
    {
     "name": "stdout",
     "output_type": "stream",
     "text": [
      "<class 'pandas.core.frame.DataFrame'>\n",
      "Int64Index: 28397 entries, 0 to 34195\n",
      "Data columns (total 8 columns):\n",
      " #   Column                Non-Null Count  Dtype \n",
      "---  ------                --------------  ----- \n",
      " 0   Test_id               28397 non-null  object\n",
      " 1   results               28397 non-null  object\n",
      " 2   scenes_id             28397 non-null  object\n",
      " 3   dimension             28397 non-null  object\n",
      " 4   tool_config           28397 non-null  object\n",
      " 5   tool_env_config       28397 non-null  object\n",
      " 6   component_config      28397 non-null  object\n",
      " 7   component_env_config  28397 non-null  object\n",
      "dtypes: object(8)\n",
      "memory usage: 1.9+ MB\n"
     ]
    }
   ],
   "source": [
    "keyTestTt.info()"
   ]
  },
  {
   "cell_type": "code",
   "execution_count": 59,
   "metadata": {},
   "outputs": [],
   "source": [
    "def test(keyTestTt, keyTestTConfigt, configlist):\n",
    "    for config in configlist:\n",
    "        keyTestTt = pd.merge(keyTestTt, keyTestTConfigt[['Config_id','value']], left_on=config, right_on='Config_id', how='left')\n",
    "        # keyTestTt.dropna(inplace=True)\n",
    "        # 将tool_config字段的值替换为value字段的值\n",
    "        keyTestTt[config] = keyTestTt['value']\n",
    "        # 将value, Config_id字段删除\n",
    "        keyTestTt.drop(['value', 'Config_id'], axis=1, inplace=True)\n",
    "    return keyTestTt"
   ]
  },
  {
   "cell_type": "code",
   "execution_count": 60,
   "metadata": {},
   "outputs": [],
   "source": [
    "smalltest=test(keyTestTt, keyTestTConfigt, configlist)"
   ]
  },
  {
   "cell_type": "code",
   "execution_count": 61,
   "metadata": {},
   "outputs": [
    {
     "data": {
      "text/html": [
       "<div>\n",
       "<style scoped>\n",
       "    .dataframe tbody tr th:only-of-type {\n",
       "        vertical-align: middle;\n",
       "    }\n",
       "\n",
       "    .dataframe tbody tr th {\n",
       "        vertical-align: top;\n",
       "    }\n",
       "\n",
       "    .dataframe thead th {\n",
       "        text-align: right;\n",
       "    }\n",
       "</style>\n",
       "<table border=\"1\" class=\"dataframe\">\n",
       "  <thead>\n",
       "    <tr style=\"text-align: right;\">\n",
       "      <th></th>\n",
       "      <th>Test_id</th>\n",
       "      <th>results</th>\n",
       "      <th>scenes_id</th>\n",
       "      <th>dimension</th>\n",
       "      <th>tool_config</th>\n",
       "      <th>tool_env_config</th>\n",
       "      <th>component_config</th>\n",
       "      <th>component_env_config</th>\n",
       "    </tr>\n",
       "  </thead>\n",
       "  <tbody>\n",
       "    <tr>\n",
       "      <th>0</th>\n",
       "      <td>2385</td>\n",
       "      <td>{\"#vray_render_time\": 145}</td>\n",
       "      <td>72</td>\n",
       "      <td>{\"cvm_cpu\": \"8\", \"platform\": \"default\", \"test_...</td>\n",
       "      <td>NaN</td>\n",
       "      <td>{\"name\": \"cvm\", \"configs\": {\"cpu\": {\"Flags\": \"...</td>\n",
       "      <td>{\"name\": \"cvm\", \"configs\": {\"cpu\": {\"Flags\": \"...</td>\n",
       "      <td>NaN</td>\n",
       "    </tr>\n",
       "    <tr>\n",
       "      <th>1</th>\n",
       "      <td>2932</td>\n",
       "      <td>{\"#vray_render_time\": 146}</td>\n",
       "      <td>72</td>\n",
       "      <td>{\"cvm_cpu\": \"8\", \"platform\": \"default\", \"test_...</td>\n",
       "      <td>NaN</td>\n",
       "      <td>{\"name\": \"cvm\", \"configs\": {\"cpu\": {\"Flags\": \"...</td>\n",
       "      <td>{\"name\": \"cvm\", \"configs\": {\"cpu\": {\"Flags\": \"...</td>\n",
       "      <td>NaN</td>\n",
       "    </tr>\n",
       "    <tr>\n",
       "      <th>2</th>\n",
       "      <td>2939</td>\n",
       "      <td>{\"#vray_render_time\": 149}</td>\n",
       "      <td>72</td>\n",
       "      <td>{\"cvm_cpu\": \"8\", \"platform\": \"default\", \"test_...</td>\n",
       "      <td>NaN</td>\n",
       "      <td>{\"name\": \"cvm\", \"configs\": {\"cpu\": {\"Flags\": \"...</td>\n",
       "      <td>{\"name\": \"cvm\", \"configs\": {\"cpu\": {\"Flags\": \"...</td>\n",
       "      <td>NaN</td>\n",
       "    </tr>\n",
       "    <tr>\n",
       "      <th>3</th>\n",
       "      <td>2394</td>\n",
       "      <td>{\"#vray_render_time\": 144}</td>\n",
       "      <td>72</td>\n",
       "      <td>{\"cvm_cpu\": \"8\", \"platform\": \"default\", \"test_...</td>\n",
       "      <td>NaN</td>\n",
       "      <td>{\"name\": \"cvm\", \"configs\": {\"cpu\": {\"Flags\": \"...</td>\n",
       "      <td>{\"name\": \"cvm\", \"configs\": {\"cpu\": {\"Flags\": \"...</td>\n",
       "      <td>NaN</td>\n",
       "    </tr>\n",
       "    <tr>\n",
       "      <th>4</th>\n",
       "      <td>2403</td>\n",
       "      <td>{\"#vray_render_time\": 148}</td>\n",
       "      <td>72</td>\n",
       "      <td>{\"cvm_cpu\": \"8\", \"platform\": \"default\", \"test_...</td>\n",
       "      <td>NaN</td>\n",
       "      <td>{\"name\": \"cvm\", \"configs\": {\"cpu\": {\"Flags\": \"...</td>\n",
       "      <td>{\"name\": \"cvm\", \"configs\": {\"cpu\": {\"Flags\": \"...</td>\n",
       "      <td>NaN</td>\n",
       "    </tr>\n",
       "  </tbody>\n",
       "</table>\n",
       "</div>"
      ],
      "text/plain": [
       "  Test_id                     results scenes_id  \\\n",
       "0    2385  {\"#vray_render_time\": 145}        72   \n",
       "1    2932  {\"#vray_render_time\": 146}        72   \n",
       "2    2939  {\"#vray_render_time\": 149}        72   \n",
       "3    2394  {\"#vray_render_time\": 144}        72   \n",
       "4    2403  {\"#vray_render_time\": 148}        72   \n",
       "\n",
       "                                           dimension tool_config  \\\n",
       "0  {\"cvm_cpu\": \"8\", \"platform\": \"default\", \"test_...         NaN   \n",
       "1  {\"cvm_cpu\": \"8\", \"platform\": \"default\", \"test_...         NaN   \n",
       "2  {\"cvm_cpu\": \"8\", \"platform\": \"default\", \"test_...         NaN   \n",
       "3  {\"cvm_cpu\": \"8\", \"platform\": \"default\", \"test_...         NaN   \n",
       "4  {\"cvm_cpu\": \"8\", \"platform\": \"default\", \"test_...         NaN   \n",
       "\n",
       "                                     tool_env_config  \\\n",
       "0  {\"name\": \"cvm\", \"configs\": {\"cpu\": {\"Flags\": \"...   \n",
       "1  {\"name\": \"cvm\", \"configs\": {\"cpu\": {\"Flags\": \"...   \n",
       "2  {\"name\": \"cvm\", \"configs\": {\"cpu\": {\"Flags\": \"...   \n",
       "3  {\"name\": \"cvm\", \"configs\": {\"cpu\": {\"Flags\": \"...   \n",
       "4  {\"name\": \"cvm\", \"configs\": {\"cpu\": {\"Flags\": \"...   \n",
       "\n",
       "                                    component_config component_env_config  \n",
       "0  {\"name\": \"cvm\", \"configs\": {\"cpu\": {\"Flags\": \"...                  NaN  \n",
       "1  {\"name\": \"cvm\", \"configs\": {\"cpu\": {\"Flags\": \"...                  NaN  \n",
       "2  {\"name\": \"cvm\", \"configs\": {\"cpu\": {\"Flags\": \"...                  NaN  \n",
       "3  {\"name\": \"cvm\", \"configs\": {\"cpu\": {\"Flags\": \"...                  NaN  \n",
       "4  {\"name\": \"cvm\", \"configs\": {\"cpu\": {\"Flags\": \"...                  NaN  "
      ]
     },
     "execution_count": 61,
     "metadata": {},
     "output_type": "execute_result"
    }
   ],
   "source": [
    "smalltest.head()"
   ]
  },
  {
   "cell_type": "code",
   "execution_count": 62,
   "metadata": {},
   "outputs": [
    {
     "name": "stdout",
     "output_type": "stream",
     "text": [
      "<class 'pandas.core.frame.DataFrame'>\n",
      "Int64Index: 28397 entries, 0 to 28396\n",
      "Data columns (total 8 columns):\n",
      " #   Column                Non-Null Count  Dtype \n",
      "---  ------                --------------  ----- \n",
      " 0   Test_id               28397 non-null  object\n",
      " 1   results               28397 non-null  object\n",
      " 2   scenes_id             28397 non-null  object\n",
      " 3   dimension             28397 non-null  object\n",
      " 4   tool_config           1947 non-null   object\n",
      " 5   tool_env_config       28397 non-null  object\n",
      " 6   component_config      28397 non-null  object\n",
      " 7   component_env_config  0 non-null      object\n",
      "dtypes: object(8)\n",
      "memory usage: 1.9+ MB\n"
     ]
    }
   ],
   "source": [
    "smalltest.info()"
   ]
  },
  {
   "cell_type": "code",
   "execution_count": 63,
   "metadata": {},
   "outputs": [],
   "source": [
    "smalltest=smalltest[['Test_id','results','tool_env_config','component_config']]"
   ]
  },
  {
   "cell_type": "code",
   "execution_count": 64,
   "metadata": {},
   "outputs": [
    {
     "data": {
      "text/html": [
       "<div>\n",
       "<style scoped>\n",
       "    .dataframe tbody tr th:only-of-type {\n",
       "        vertical-align: middle;\n",
       "    }\n",
       "\n",
       "    .dataframe tbody tr th {\n",
       "        vertical-align: top;\n",
       "    }\n",
       "\n",
       "    .dataframe thead th {\n",
       "        text-align: right;\n",
       "    }\n",
       "</style>\n",
       "<table border=\"1\" class=\"dataframe\">\n",
       "  <thead>\n",
       "    <tr style=\"text-align: right;\">\n",
       "      <th></th>\n",
       "      <th>Test_id</th>\n",
       "      <th>results</th>\n",
       "      <th>tool_env_config</th>\n",
       "      <th>component_config</th>\n",
       "    </tr>\n",
       "  </thead>\n",
       "  <tbody>\n",
       "    <tr>\n",
       "      <th>0</th>\n",
       "      <td>2385</td>\n",
       "      <td>{\"#vray_render_time\": 145}</td>\n",
       "      <td>{\"name\": \"cvm\", \"configs\": {\"cpu\": {\"Flags\": \"...</td>\n",
       "      <td>{\"name\": \"cvm\", \"configs\": {\"cpu\": {\"Flags\": \"...</td>\n",
       "    </tr>\n",
       "    <tr>\n",
       "      <th>1</th>\n",
       "      <td>2932</td>\n",
       "      <td>{\"#vray_render_time\": 146}</td>\n",
       "      <td>{\"name\": \"cvm\", \"configs\": {\"cpu\": {\"Flags\": \"...</td>\n",
       "      <td>{\"name\": \"cvm\", \"configs\": {\"cpu\": {\"Flags\": \"...</td>\n",
       "    </tr>\n",
       "    <tr>\n",
       "      <th>2</th>\n",
       "      <td>2939</td>\n",
       "      <td>{\"#vray_render_time\": 149}</td>\n",
       "      <td>{\"name\": \"cvm\", \"configs\": {\"cpu\": {\"Flags\": \"...</td>\n",
       "      <td>{\"name\": \"cvm\", \"configs\": {\"cpu\": {\"Flags\": \"...</td>\n",
       "    </tr>\n",
       "    <tr>\n",
       "      <th>3</th>\n",
       "      <td>2394</td>\n",
       "      <td>{\"#vray_render_time\": 144}</td>\n",
       "      <td>{\"name\": \"cvm\", \"configs\": {\"cpu\": {\"Flags\": \"...</td>\n",
       "      <td>{\"name\": \"cvm\", \"configs\": {\"cpu\": {\"Flags\": \"...</td>\n",
       "    </tr>\n",
       "    <tr>\n",
       "      <th>4</th>\n",
       "      <td>2403</td>\n",
       "      <td>{\"#vray_render_time\": 148}</td>\n",
       "      <td>{\"name\": \"cvm\", \"configs\": {\"cpu\": {\"Flags\": \"...</td>\n",
       "      <td>{\"name\": \"cvm\", \"configs\": {\"cpu\": {\"Flags\": \"...</td>\n",
       "    </tr>\n",
       "  </tbody>\n",
       "</table>\n",
       "</div>"
      ],
      "text/plain": [
       "  Test_id                     results  \\\n",
       "0    2385  {\"#vray_render_time\": 145}   \n",
       "1    2932  {\"#vray_render_time\": 146}   \n",
       "2    2939  {\"#vray_render_time\": 149}   \n",
       "3    2394  {\"#vray_render_time\": 144}   \n",
       "4    2403  {\"#vray_render_time\": 148}   \n",
       "\n",
       "                                     tool_env_config  \\\n",
       "0  {\"name\": \"cvm\", \"configs\": {\"cpu\": {\"Flags\": \"...   \n",
       "1  {\"name\": \"cvm\", \"configs\": {\"cpu\": {\"Flags\": \"...   \n",
       "2  {\"name\": \"cvm\", \"configs\": {\"cpu\": {\"Flags\": \"...   \n",
       "3  {\"name\": \"cvm\", \"configs\": {\"cpu\": {\"Flags\": \"...   \n",
       "4  {\"name\": \"cvm\", \"configs\": {\"cpu\": {\"Flags\": \"...   \n",
       "\n",
       "                                    component_config  \n",
       "0  {\"name\": \"cvm\", \"configs\": {\"cpu\": {\"Flags\": \"...  \n",
       "1  {\"name\": \"cvm\", \"configs\": {\"cpu\": {\"Flags\": \"...  \n",
       "2  {\"name\": \"cvm\", \"configs\": {\"cpu\": {\"Flags\": \"...  \n",
       "3  {\"name\": \"cvm\", \"configs\": {\"cpu\": {\"Flags\": \"...  \n",
       "4  {\"name\": \"cvm\", \"configs\": {\"cpu\": {\"Flags\": \"...  "
      ]
     },
     "execution_count": 64,
     "metadata": {},
     "output_type": "execute_result"
    }
   ],
   "source": [
    "smalltest.head()"
   ]
  },
  {
   "cell_type": "code",
   "execution_count": 65,
   "metadata": {},
   "outputs": [
    {
     "name": "stdout",
     "output_type": "stream",
     "text": [
      "<class 'pandas.core.frame.DataFrame'>\n",
      "Int64Index: 28397 entries, 0 to 28396\n",
      "Data columns (total 4 columns):\n",
      " #   Column            Non-Null Count  Dtype \n",
      "---  ------            --------------  ----- \n",
      " 0   Test_id           28397 non-null  object\n",
      " 1   results           28397 non-null  object\n",
      " 2   tool_env_config   28397 non-null  object\n",
      " 3   component_config  28397 non-null  object\n",
      "dtypes: object(4)\n",
      "memory usage: 1.1+ MB\n"
     ]
    }
   ],
   "source": [
    "smalltest.info()"
   ]
  },
  {
   "cell_type": "code",
   "execution_count": 66,
   "metadata": {},
   "outputs": [],
   "source": [
    "# 将keyTestT文件中的tool_config字段的值通过与keyTestConfig文件的Config_id字段作为参照值，如果keyTestConfig文件中的id字段的值与tool_config字段的值相同，则将keyTestConfig文件中的value字段的值赋值给keyTestT文件中的tool_config字段\n",
    "# keyTestTt = pd.merge(keyTestTt, keyTestTConfigt[['Config_id','value']], left_on='tool_env_config', right_on='Config_id', how='left')\n",
    "# keyTestTt.dropna(inplace=True)\n",
    "# # 将tool_config字段的值替换为value字段的值\n",
    "# keyTestTt['tool_env_config'] = keyTestTt['value']\n",
    "# # 将value, Config_id字段删除\n",
    "# keyTestTt.drop(['value', 'Config_id'], axis=1, inplace=True)\n",
    "# keyTestTt.head()"
   ]
  },
  {
   "cell_type": "code",
   "execution_count": 67,
   "metadata": {},
   "outputs": [],
   "source": [
    "# 将keyTestT.csv保存为test.csv文件\n",
    "# keyTestT.to_csv('test.csv', index=False)"
   ]
  }
 ],
 "metadata": {
  "kernelspec": {
   "display_name": "pytorch",
   "language": "python",
   "name": "python3"
  },
  "language_info": {
   "codemirror_mode": {
    "name": "ipython",
    "version": 3
   },
   "file_extension": ".py",
   "mimetype": "text/x-python",
   "name": "python",
   "nbconvert_exporter": "python",
   "pygments_lexer": "ipython3",
   "version": "3.6.15"
  },
  "orig_nbformat": 4,
  "vscode": {
   "interpreter": {
    "hash": "e2e8ddb4de15988e6e8d3645e3fa3d3cd833fd38eaa27b2aef6b9f7c4ad9c031"
   }
  }
 },
 "nbformat": 4,
 "nbformat_minor": 2
}
