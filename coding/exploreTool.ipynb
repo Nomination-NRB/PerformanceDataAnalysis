{
 "cells": [
  {
   "cell_type": "code",
   "execution_count": 1,
   "metadata": {},
   "outputs": [],
   "source": [
    "import pandas as pd\n",
    "from collections import Counter\n",
    "import re\n",
    "import matplotlib.pyplot as plt\n",
    "import heapq\n",
    "import json\n",
    "import concurrent.futures\n",
    "from tqdm import tqdm"
   ]
  },
  {
   "cell_type": "code",
   "execution_count": 2,
   "metadata": {},
   "outputs": [],
   "source": [
    "def validate_json(json_str):\n",
    "    try:\n",
    "        json.loads(json_str)\n",
    "        return True\n",
    "    except:\n",
    "        return False\n",
    "\n",
    "def process_row(row):\n",
    "    if validate_json(row.dimension) and validate_json(row.results):\n",
    "        return row\n",
    "    else:\n",
    "        # 打印出错的行号\n",
    "        print(f'error json: {row.Index}\\n')\n",
    "        return None\n",
    "\n",
    "def judgeJson(keyTestT):\n",
    "    # 使用并行处理加速处理过程\n",
    "    with concurrent.futures.ThreadPoolExecutor() as executor:\n",
    "        results = list(tqdm(executor.map(process_row, keyTestT.itertuples()), total=len(keyTestT)))\n",
    "\n",
    "    # 过滤掉返回 None 的结果并重置索引\n",
    "    keyTestT = pd.DataFrame([r for r in results if r is not None])\n",
    "    keyTestT = keyTestT.reset_index(drop=True)\n",
    "    return keyTestT"
   ]
  },
  {
   "cell_type": "code",
   "execution_count": 3,
   "metadata": {},
   "outputs": [
    {
     "name": "stdout",
     "output_type": "stream",
     "text": [
      "filterFile.csv exists\n"
     ]
    }
   ],
   "source": [
    "# 判断data/文件夹下是否有filterFile.csv文件\n",
    "# 如果有则读取，如果没有则生成\n",
    "try:\n",
    "    df = pd.read_csv('data/filterFile.csv')\n",
    "    print('filterFile.csv exists')\n",
    "except FileNotFoundError:\n",
    "    df = pd.read_csv('data/origin_files/key_test_t.csv')\n",
    "    df = df[['results', 'dimension','results_key']]\n",
    "    df = judgeJson(df)\n",
    "    df.to_csv('data/filterFile.csv', index=False)\n",
    "    print('filterFile.csv created')"
   ]
  },
  {
   "cell_type": "code",
   "execution_count": 4,
   "metadata": {},
   "outputs": [],
   "source": [
    "# 针对results_key这一列，计数每一行的值出现的次数\n",
    "ResultsKeyCount = df['results_key'].value_counts()\n",
    "ResultsKeyCount = pd.DataFrame(ResultsKeyCount)\n",
    "ResultsKeyCount.columns = ['number']"
   ]
  },
  {
   "cell_type": "code",
   "execution_count": 5,
   "metadata": {},
   "outputs": [
    {
     "data": {
      "text/html": [
       "<div>\n",
       "<style scoped>\n",
       "    .dataframe tbody tr th:only-of-type {\n",
       "        vertical-align: middle;\n",
       "    }\n",
       "\n",
       "    .dataframe tbody tr th {\n",
       "        vertical-align: top;\n",
       "    }\n",
       "\n",
       "    .dataframe thead th {\n",
       "        text-align: right;\n",
       "    }\n",
       "</style>\n",
       "<table border=\"1\" class=\"dataframe\">\n",
       "  <thead>\n",
       "    <tr style=\"text-align: right;\">\n",
       "      <th></th>\n",
       "      <th>number</th>\n",
       "    </tr>\n",
       "  </thead>\n",
       "  <tbody>\n",
       "    <tr>\n",
       "      <th>default</th>\n",
       "      <td>131077</td>\n",
       "    </tr>\n",
       "    <tr>\n",
       "      <th>scale=5000</th>\n",
       "      <td>20984</td>\n",
       "    </tr>\n",
       "    <tr>\n",
       "      <th>gcc_oflag=O0,threads=1</th>\n",
       "      <td>19413</td>\n",
       "    </tr>\n",
       "    <tr>\n",
       "      <th>gcc_flags=default;processors=single_core</th>\n",
       "      <td>13821</td>\n",
       "    </tr>\n",
       "    <tr>\n",
       "      <th>suite=intspeed</th>\n",
       "      <td>13477</td>\n",
       "    </tr>\n",
       "    <tr>\n",
       "      <th>gcc_flags=default;processors=multi_core</th>\n",
       "      <td>13407</td>\n",
       "    </tr>\n",
       "    <tr>\n",
       "      <th>processor=cpu</th>\n",
       "      <td>13188</td>\n",
       "    </tr>\n",
       "    <tr>\n",
       "      <th>suite=fprate</th>\n",
       "      <td>12089</td>\n",
       "    </tr>\n",
       "    <tr>\n",
       "      <th>suite=intrate</th>\n",
       "      <td>11588</td>\n",
       "    </tr>\n",
       "    <tr>\n",
       "      <th>gcc_oflag=O3,threads=1</th>\n",
       "      <td>10224</td>\n",
       "    </tr>\n",
       "  </tbody>\n",
       "</table>\n",
       "</div>"
      ],
      "text/plain": [
       "                                          number\n",
       "default                                   131077\n",
       "scale=5000                                 20984\n",
       "gcc_oflag=O0,threads=1                     19413\n",
       "gcc_flags=default;processors=single_core   13821\n",
       "suite=intspeed                             13477\n",
       "gcc_flags=default;processors=multi_core    13407\n",
       "processor=cpu                              13188\n",
       "suite=fprate                               12089\n",
       "suite=intrate                              11588\n",
       "gcc_oflag=O3,threads=1                     10224"
      ]
     },
     "execution_count": 5,
     "metadata": {},
     "output_type": "execute_result"
    }
   ],
   "source": [
    "ResultsKeyCount.head(10)"
   ]
  },
  {
   "cell_type": "code",
   "execution_count": 6,
   "metadata": {},
   "outputs": [
    {
     "name": "stdout",
     "output_type": "stream",
     "text": [
      "47\n"
     ]
    }
   ],
   "source": [
    "# 判断key_test中的dimension列中是否同时存在tool_name和test_name字段，如果不存在则error+1\n",
    "error = 0\n",
    "for i in range(len(df)):\n",
    "    if 'tool_name' not in df['dimension'][i] or 'test_name' not in df['dimension'][i]:\n",
    "        error += 1\n",
    "print(error)"
   ]
  },
  {
   "cell_type": "code",
   "execution_count": 7,
   "metadata": {},
   "outputs": [],
   "source": [
    "def getToolName(df):\n",
    "    tool_names = []\n",
    "    test_name = []\n",
    "    for dim in df['dimension']:\n",
    "        if dim:\n",
    "            dim_dict = json.loads(dim)\n",
    "            if 'tool_name' in dim_dict:\n",
    "                tool_names.append(dim_dict['tool_name'])\n",
    "            if 'test_name' in dim_dict:\n",
    "                test_name.append(dim_dict['test_name'])\n",
    "\n",
    "    tool_name_counts = Counter(tool_names)\n",
    "    test_name_counts = Counter(test_name)\n",
    "    return tool_name_counts, test_name_counts\n"
   ]
  },
  {
   "cell_type": "code",
   "execution_count": 8,
   "metadata": {},
   "outputs": [],
   "source": [
    "# 统计tool_name值出现的次数\n",
    "toolNameCount, testNameCount = getToolName(df)\n",
    "# 将Counter对象toolNameCount转换为DataFrame\n",
    "toolNameCount = pd.DataFrame.from_dict(toolNameCount, orient='index')\n",
    "toolNameCount.columns = ['number']\n",
    "# 将Counter对象testNameCount转换为DataFrame\n",
    "testNameCount = pd.DataFrame.from_dict(testNameCount, orient='index')\n",
    "testNameCount.columns = ['number']\n",
    "# 将toolNameCount和testNameCount按照number值降序排列\n",
    "toolNameCount = toolNameCount.sort_values(by='number', ascending=False)\n",
    "testNameCount = testNameCount.sort_values(by='number', ascending=False)"
   ]
  },
  {
   "cell_type": "code",
   "execution_count": 9,
   "metadata": {},
   "outputs": [
    {
     "data": {
      "text/html": [
       "<div>\n",
       "<style scoped>\n",
       "    .dataframe tbody tr th:only-of-type {\n",
       "        vertical-align: middle;\n",
       "    }\n",
       "\n",
       "    .dataframe tbody tr th {\n",
       "        vertical-align: top;\n",
       "    }\n",
       "\n",
       "    .dataframe thead th {\n",
       "        text-align: right;\n",
       "    }\n",
       "</style>\n",
       "<table border=\"1\" class=\"dataframe\">\n",
       "  <thead>\n",
       "    <tr style=\"text-align: right;\">\n",
       "      <th></th>\n",
       "      <th>number</th>\n",
       "    </tr>\n",
       "  </thead>\n",
       "  <tbody>\n",
       "    <tr>\n",
       "      <th>stream</th>\n",
       "      <td>101301</td>\n",
       "    </tr>\n",
       "    <tr>\n",
       "      <th>unixbench</th>\n",
       "      <td>78977</td>\n",
       "    </tr>\n",
       "    <tr>\n",
       "      <th>speccpu2017</th>\n",
       "      <td>46576</td>\n",
       "    </tr>\n",
       "    <tr>\n",
       "      <th>ls</th>\n",
       "      <td>44148</td>\n",
       "    </tr>\n",
       "    <tr>\n",
       "      <th>netperf</th>\n",
       "      <td>32252</td>\n",
       "    </tr>\n",
       "    <tr>\n",
       "      <th>vray</th>\n",
       "      <td>32015</td>\n",
       "    </tr>\n",
       "    <tr>\n",
       "      <th>mlc</th>\n",
       "      <td>27041</td>\n",
       "    </tr>\n",
       "    <tr>\n",
       "      <th>super_pi</th>\n",
       "      <td>21005</td>\n",
       "    </tr>\n",
       "    <tr>\n",
       "      <th>ping</th>\n",
       "      <td>20116</td>\n",
       "    </tr>\n",
       "    <tr>\n",
       "      <th>wzry</th>\n",
       "      <td>18589</td>\n",
       "    </tr>\n",
       "  </tbody>\n",
       "</table>\n",
       "</div>"
      ],
      "text/plain": [
       "             number\n",
       "stream       101301\n",
       "unixbench     78977\n",
       "speccpu2017   46576\n",
       "ls            44148\n",
       "netperf       32252\n",
       "vray          32015\n",
       "mlc           27041\n",
       "super_pi      21005\n",
       "ping          20116\n",
       "wzry          18589"
      ]
     },
     "execution_count": 9,
     "metadata": {},
     "output_type": "execute_result"
    }
   ],
   "source": [
    "toolNameCount.head(10)"
   ]
  },
  {
   "cell_type": "code",
   "execution_count": 10,
   "metadata": {},
   "outputs": [
    {
     "data": {
      "text/html": [
       "<div>\n",
       "<style scoped>\n",
       "    .dataframe tbody tr th:only-of-type {\n",
       "        vertical-align: middle;\n",
       "    }\n",
       "\n",
       "    .dataframe tbody tr th {\n",
       "        vertical-align: top;\n",
       "    }\n",
       "\n",
       "    .dataframe thead th {\n",
       "        text-align: right;\n",
       "    }\n",
       "</style>\n",
       "<table border=\"1\" class=\"dataframe\">\n",
       "  <thead>\n",
       "    <tr style=\"text-align: right;\">\n",
       "      <th></th>\n",
       "      <th>number</th>\n",
       "    </tr>\n",
       "  </thead>\n",
       "  <tbody>\n",
       "    <tr>\n",
       "      <th>stream_baseline</th>\n",
       "      <td>100212</td>\n",
       "    </tr>\n",
       "    <tr>\n",
       "      <th>unixbench_baseline</th>\n",
       "      <td>76567</td>\n",
       "    </tr>\n",
       "    <tr>\n",
       "      <th>demo</th>\n",
       "      <td>67427</td>\n",
       "    </tr>\n",
       "    <tr>\n",
       "      <th>speccpu2017_baseline</th>\n",
       "      <td>46285</td>\n",
       "    </tr>\n",
       "    <tr>\n",
       "      <th>netperf_baseline</th>\n",
       "      <td>30801</td>\n",
       "    </tr>\n",
       "    <tr>\n",
       "      <th>mlc_baseline</th>\n",
       "      <td>26799</td>\n",
       "    </tr>\n",
       "    <tr>\n",
       "      <th>super_pi_baseline</th>\n",
       "      <td>20989</td>\n",
       "    </tr>\n",
       "    <tr>\n",
       "      <th>ping_baseline</th>\n",
       "      <td>18899</td>\n",
       "    </tr>\n",
       "    <tr>\n",
       "      <th>wzry_baseline</th>\n",
       "      <td>18538</td>\n",
       "    </tr>\n",
       "    <tr>\n",
       "      <th>perf_bench_baseline</th>\n",
       "      <td>12937</td>\n",
       "    </tr>\n",
       "  </tbody>\n",
       "</table>\n",
       "</div>"
      ],
      "text/plain": [
       "                      number\n",
       "stream_baseline       100212\n",
       "unixbench_baseline     76567\n",
       "demo                   67427\n",
       "speccpu2017_baseline   46285\n",
       "netperf_baseline       30801\n",
       "mlc_baseline           26799\n",
       "super_pi_baseline      20989\n",
       "ping_baseline          18899\n",
       "wzry_baseline          18538\n",
       "perf_bench_baseline    12937"
      ]
     },
     "execution_count": 10,
     "metadata": {},
     "output_type": "execute_result"
    }
   ],
   "source": [
    "testNameCount.head(10)"
   ]
  },
  {
   "cell_type": "code",
   "execution_count": 11,
   "metadata": {},
   "outputs": [],
   "source": [
    "# 获得toolNameCount的前5的index\n",
    "toolNameCount_index = toolNameCount.index[:10].tolist()"
   ]
  },
  {
   "cell_type": "code",
   "execution_count": 12,
   "metadata": {},
   "outputs": [
    {
     "name": "stdout",
     "output_type": "stream",
     "text": [
      "['stream', 'unixbench', 'speccpu2017', 'ls', 'netperf', 'vray', 'mlc', 'super_pi', 'ping', 'wzry']\n"
     ]
    }
   ],
   "source": [
    "print(toolNameCount_index)"
   ]
  },
  {
   "cell_type": "code",
   "execution_count": 13,
   "metadata": {},
   "outputs": [],
   "source": [
    "\n",
    "def getKeyNum(df):\n",
    "    # 提取 results 列中带有 \"#\" 号的字段\n",
    "    pattern = r'#\\w+'  \n",
    "    results = df['results'].str.cat(sep=' ')  # 将所有 results 列的数据合并为一个字符串\n",
    "    hashtags = set(re.findall(pattern, results))  # 使用正则表达式提取带 \"#\" 号的字段，并去重\n",
    "\n",
    "    # 统计每个带 \"#\" 号的字段在整个文件中出现的次数\n",
    "    hashtags_dict = {}\n",
    "    for hashtag in hashtags:\n",
    "        count = results.count(hashtag)\n",
    "        hashtags_dict[hashtag] = count\n",
    "    return hashtags_dict\n",
    "\n",
    "\n",
    "def getTop10Key(hashtags_dict):\n",
    "    # 获取字典中数量前十的字段\n",
    "    top_n = 10  # 自定义获取前几个字段\n",
    "    top_n_fields = heapq.nlargest(top_n, hashtags_dict, key=hashtags_dict.get)\n",
    "    \n",
    "    print(\"数量前十的字段：\")\n",
    "    for field in top_n_fields:\n",
    "        print(\"字段名: {:<30s} 出现次数: {:d}\".format(field, hashtags_dict[field]))\n",
    "\n",
    "\n",
    "def getDivideFile(toolNameCount_index, df):\n",
    "    key_test = df.copy()\n",
    "    # 根据toolNameCount_index筛选出tool_name值为toolNameCount_index的行，并重置索引，保存为toolNameCount_index对应名字的csv文件\n",
    "    for tool_name in toolNameCount_index:\n",
    "        tool_name_df = key_test[key_test['dimension'].str.contains(tool_name)]\n",
    "        tool_name_df = tool_name_df.reset_index(drop=True)\n",
    "        # 只保留results_key,results,dimension列\n",
    "        tool_name_df = tool_name_df[['results_key', 'results', 'dimension']]\n",
    "        tool_name_df.to_csv('data/processed_files/' + tool_name + '.csv', index=False)"
   ]
  },
  {
   "cell_type": "code",
   "execution_count": 14,
   "metadata": {},
   "outputs": [],
   "source": [
    "getDivideFile(toolNameCount_index, df)"
   ]
  },
  {
   "cell_type": "code",
   "execution_count": 15,
   "metadata": {},
   "outputs": [
    {
     "name": "stdout",
     "output_type": "stream",
     "text": [
      "(102876, 3)\n",
      "数量前十的字段：\n",
      "字段名: #stream_copy                   出现次数: 94146\n",
      "字段名: #stream_triad                  出现次数: 94146\n",
      "字段名: #stream_add                    出现次数: 8369\n",
      "字段名: #stream_scale                  出现次数: 8369\n",
      "字段名: #stream_ht2_triad              出现次数: 6038\n",
      "字段名: #stream_ht1_triad              出现次数: 6038\n",
      "字段名: #stream_ht2_copy               出现次数: 6038\n",
      "字段名: #stream_ht1_copy               出现次数: 6038\n",
      "字段名: #hrtimer_min                   出现次数: 748\n",
      "字段名: #hrtimer_max                   出现次数: 748\n"
     ]
    }
   ],
   "source": [
    "streamDF = pd.read_csv('data/processed_files/stream.csv')\n",
    "streamDFhashtags_dict = getKeyNum(streamDF)\n",
    "print(streamDF.shape)\n",
    "getTop10Key(streamDFhashtags_dict)"
   ]
  },
  {
   "cell_type": "code",
   "execution_count": 16,
   "metadata": {},
   "outputs": [
    {
     "name": "stdout",
     "output_type": "stream",
     "text": [
      "(79786, 3)\n",
      "数量前十的字段：\n",
      "字段名: #unixbench_cpu                 出现次数: 23439\n",
      "字段名: #unixbench_context             出现次数: 21972\n",
      "字段名: #unixbench_fork                出现次数: 12387\n",
      "字段名: #unixbench_api                 出现次数: 9037\n",
      "字段名: #unixbench_shell               出现次数: 8901\n",
      "字段名: #unixbench_floating_score      出现次数: 4681\n",
      "字段名: #unixbench_int_cpu             出现次数: 4130\n",
      "字段名: #unixbench_total               出现次数: 104\n",
      "字段名: #unixbench_system_call_overhead 出现次数: 101\n",
      "字段名: #unixbench_shell_scripts_8_concurrent 出现次数: 100\n"
     ]
    }
   ],
   "source": [
    "unixbenchDF = pd.read_csv('data/processed_files/unixbench.csv')\n",
    "unixbenchDFhashtags_dict = getKeyNum(unixbenchDF)\n",
    "print(unixbenchDF.shape)\n",
    "getTop10Key(unixbenchDFhashtags_dict)"
   ]
  },
  {
   "cell_type": "code",
   "execution_count": 17,
   "metadata": {},
   "outputs": [],
   "source": [
    "def count_json_keys(data):\n",
    "    \"\"\"\n",
    "    统计json数据中各个key出现的次数\n",
    "    :param data: 包含json数据的列表\n",
    "    :return: Counter对象，其中key为所有json数据中出现过的key，value为这个key出现的次数\n",
    "    \"\"\"\n",
    "    keys_count = Counter()\n",
    "    for json_str in data:\n",
    "        json_data = json.loads(json_str)\n",
    "        for key in json_data.keys():\n",
    "            keys_count[key] += 1\n",
    "    return keys_count"
   ]
  },
  {
   "cell_type": "code",
   "execution_count": 18,
   "metadata": {},
   "outputs": [],
   "source": [
    "unixbenchKeyCount = count_json_keys(unixbenchDF['dimension'])\n",
    "# 根据次数从大到小排序\n",
    "unixbenchKeyCount = sorted(unixbenchKeyCount.items(), key=lambda x: x[1], reverse=True)"
   ]
  },
  {
   "cell_type": "code",
   "execution_count": 19,
   "metadata": {},
   "outputs": [
    {
     "name": "stdout",
     "output_type": "stream",
     "text": [
      "key length:  32\n"
     ]
    }
   ],
   "source": [
    "key_dict = dict(unixbenchKeyCount)\n",
    "print('key length: ', len(key_dict))"
   ]
  },
  {
   "cell_type": "code",
   "execution_count": 20,
   "metadata": {},
   "outputs": [
    {
     "name": "stdout",
     "output_type": "stream",
     "text": [
      "test_name: 79786\n",
      "tool_name: 79786\n",
      "component_version: 79786\n",
      "tool_version: 79486\n",
      "platform: 79192\n",
      "component_name: 72556\n",
      "cvm_cpu: 62188\n",
      "cvm_memory: 60980\n",
      "cvm_os_type: 60332\n",
      "cvm_version: 59110\n",
      "cvm_cpu_type: 50945\n",
      "host_memory_type: 49260\n",
      "host_cpu_type: 44250\n",
      "cvm_cpu_qos: 41808\n",
      "host_manufacturer_name: 41555\n",
      "host_type: 31489\n",
      "host_configured_clock_speed: 30449\n",
      "host_nic_type: 28493\n",
      "host_cpu_isolation: 20386\n",
      "host_os_version: 17299\n",
      "host_manufacturer_product_name: 14925\n",
      "name_13: 9077\n",
      "name_510: 7230\n",
      "kernel_version: 6211\n",
      "host_kernel_version: 2460\n",
      "cvm_gpu_type: 1683\n",
      "host_cpu_qos: 929\n",
      "host_version: 759\n",
      "host_os_name: 690\n",
      "name_23: 300\n",
      "name_700: 130\n",
      "name_600: 28\n"
     ]
    }
   ],
   "source": [
    "# 遍历输出每个key和对应的出现次数\n",
    "for key, count in key_dict.items():\n",
    "    print(f\"{key}: {count}\")"
   ]
  },
  {
   "cell_type": "code",
   "execution_count": 21,
   "metadata": {},
   "outputs": [
    {
     "name": "stdout",
     "output_type": "stream",
     "text": [
      "(46619, 3)\n",
      "数量前十的字段：\n",
      "字段名: #speccpu2017_intspeed          出现次数: 13581\n",
      "字段名: #speccpu2017_fprate            出现次数: 12197\n",
      "字段名: #speccpu2017_intrate           出现次数: 11610\n",
      "字段名: #speccpu2017_fpspeed           出现次数: 8526\n",
      "字段名: #ping_avg                      出现次数: 32\n",
      "字段名: #ping_percent_90               出现次数: 16\n",
      "字段名: #ping_percent_99               出现次数: 16\n",
      "字段名: #ping_avg_99                   出现次数: 16\n",
      "字段名: #ping_min                      出现次数: 16\n",
      "字段名: #hackbench_time                出现次数: 16\n"
     ]
    }
   ],
   "source": [
    "speccpuDF = pd.read_csv('data/processed_files/speccpu2017.csv')\n",
    "speccpuDFhashtags_dict = getKeyNum(speccpuDF)\n",
    "print(speccpuDF.shape)\n",
    "getTop10Key(speccpuDFhashtags_dict)"
   ]
  },
  {
   "cell_type": "code",
   "execution_count": 22,
   "metadata": {},
   "outputs": [
    {
     "name": "stdout",
     "output_type": "stream",
     "text": [
      "(76907, 3)\n",
      "数量前十的字段：\n",
      "字段名: #ls_time                       出现次数: 44228\n",
      "字段名: #stream_copy                   出现次数: 4334\n",
      "字段名: #stream_triad                  出现次数: 4334\n",
      "字段名: #unixbench_cpu                 出现次数: 3164\n",
      "字段名: #unixbench_context             出现次数: 2930\n",
      "字段名: #stream_scale                  出现次数: 2905\n",
      "字段名: #stream_add                    出现次数: 2905\n",
      "字段名: #unixbench_api                 出现次数: 2810\n",
      "字段名: #unixbench_shell               出现次数: 2667\n",
      "字段名: #unixbench_fork                出现次数: 2634\n"
     ]
    }
   ],
   "source": [
    "lsDF = pd.read_csv('data/processed_files/ls.csv')\n",
    "lsDFhashtags_dict = getKeyNum(lsDF)\n",
    "print(lsDF.shape)\n",
    "getTop10Key(lsDFhashtags_dict)"
   ]
  },
  {
   "cell_type": "code",
   "execution_count": 23,
   "metadata": {},
   "outputs": [
    {
     "name": "stdout",
     "output_type": "stream",
     "text": [
      "(32262, 3)\n",
      "数量前十的字段：\n",
      "字段名: #netperf_UDP_PPS_64            出现次数: 10165\n",
      "字段名: #netperf_TCP_Throughput_1500   出现次数: 8433\n",
      "字段名: #netperf_UDP_PPS_64_SEND       出现次数: 4805\n",
      "字段名: #netperf_UDP_RecvThroughput_1400 出现次数: 4622\n",
      "字段名: #netperf_TCP_Throughput_256    出现次数: 4528\n",
      "字段名: #netperf_TCP_Throughput_1500_SEND 出现次数: 3812\n",
      "字段名: #netperf_TCP_CRR_32_128        出现次数: 3555\n",
      "字段名: #netperf_recv_throughput       出现次数: 3547\n",
      "字段名: #netperf_TCP_Throughput_1400   出现次数: 3528\n",
      "字段名: #netperf_TCP_RR_32_128         出现次数: 3182\n"
     ]
    }
   ],
   "source": [
    "netperfDF = pd.read_csv('data/processed_files/netperf.csv')\n",
    "netperfDFhashtags_dict = getKeyNum(netperfDF)\n",
    "print(netperfDF.shape)\n",
    "getTop10Key(netperfDFhashtags_dict)"
   ]
  },
  {
   "cell_type": "code",
   "execution_count": 24,
   "metadata": {},
   "outputs": [
    {
     "name": "stdout",
     "output_type": "stream",
     "text": [
      "(32024, 3)\n",
      "数量前十的字段：\n",
      "字段名: #vray_render_time              出现次数: 32004\n",
      "字段名: #ls_time                       出现次数: 6\n",
      "字段名: #wzry_trainning_time           出现次数: 2\n",
      "字段名: #wzry_training_time            出现次数: 1\n"
     ]
    }
   ],
   "source": [
    "vrayDF = pd.read_csv('data/processed_files/vray.csv')\n",
    "vrayDFhashtags_dict = getKeyNum(vrayDF)\n",
    "print(vrayDF.shape)\n",
    "getTop10Key(vrayDFhashtags_dict)"
   ]
  },
  {
   "cell_type": "code",
   "execution_count": 25,
   "metadata": {},
   "outputs": [
    {
     "name": "stdout",
     "output_type": "stream",
     "text": [
      "(27041, 3)\n",
      "数量前十的字段：\n",
      "字段名: #mlc_idle_latency              出现次数: 7284\n",
      "字段名: #mlc_samenuma_latency_max      出现次数: 6882\n",
      "字段名: #mlc_samenuma_latency_min      出现次数: 6882\n",
      "字段名: #mlc_samenuma_bandwidth_max    出现次数: 4523\n",
      "字段名: #mlc_samenuma_bandwidth_min    出现次数: 4523\n",
      "字段名: #mlc_all_read                  出现次数: 4173\n",
      "字段名: #mlc_3                         出现次数: 4173\n",
      "字段名: #mlc_loaded_latency_max        出现次数: 4170\n",
      "字段名: #mlc_loaded_latency_min        出现次数: 4170\n",
      "字段名: #mlc_loaded_bandwidth_min      出现次数: 4167\n"
     ]
    }
   ],
   "source": [
    "mlcDF = pd.read_csv('data/processed_files/mlc.csv')\n",
    "mlcDFhashtags_dict = getKeyNum(mlcDF)\n",
    "print(mlcDF.shape)\n",
    "getTop10Key(mlcDFhashtags_dict)"
   ]
  },
  {
   "cell_type": "code",
   "execution_count": 26,
   "metadata": {},
   "outputs": [
    {
     "name": "stdout",
     "output_type": "stream",
     "text": [
      "(21005, 3)\n",
      "数量前十的字段：\n",
      "字段名: #super_pi_real_time            出现次数: 21005\n",
      "字段名: #super_pi_user_time            出现次数: 21005\n",
      "字段名: #super_pi_sys_time             出现次数: 21005\n"
     ]
    }
   ],
   "source": [
    "super_piDF = pd.read_csv('data/processed_files/super_pi.csv')\n",
    "super_piDFhashtags_dict = getKeyNum(super_piDF)\n",
    "print(super_piDF.shape)\n",
    "getTop10Key(super_piDFhashtags_dict)"
   ]
  },
  {
   "cell_type": "code",
   "execution_count": 27,
   "metadata": {},
   "outputs": [
    {
     "name": "stdout",
     "output_type": "stream",
     "text": [
      "(22571, 3)\n",
      "数量前十的字段：\n",
      "字段名: #ping_avg                      出现次数: 32822\n",
      "字段名: #ping_max                      出现次数: 20416\n",
      "字段名: #ping_min                      出现次数: 18389\n",
      "字段名: #ping_percent_99               出现次数: 14809\n",
      "字段名: #ping_avg_99                   出现次数: 14433\n",
      "字段名: #ping_percent_90               出现次数: 14164\n",
      "字段名: #ping_first_packet             出现次数: 13774\n",
      "字段名: #ping_flood_1ms                出现次数: 5983\n",
      "字段名: #tcpping_distribution_99       出现次数: 3431\n",
      "字段名: #tcpping_latency_max           出现次数: 1727\n"
     ]
    }
   ],
   "source": [
    "pingDF = pd.read_csv('data/processed_files/ping.csv')\n",
    "pingDFhashtags_dict = getKeyNum(pingDF)\n",
    "print(pingDF.shape)\n",
    "getTop10Key(pingDFhashtags_dict)"
   ]
  },
  {
   "cell_type": "code",
   "execution_count": 28,
   "metadata": {},
   "outputs": [
    {
     "name": "stdout",
     "output_type": "stream",
     "text": [
      "(19240, 3)\n",
      "数量前十的字段：\n",
      "字段名: #wzry_training_time            出现次数: 18587\n",
      "字段名: #hrtimer_min                   出现次数: 150\n",
      "字段名: #hrtimer_max                   出现次数: 150\n",
      "字段名: #hrtimer_overflow              出现次数: 150\n",
      "字段名: #hrtimer_avg                   出现次数: 150\n",
      "字段名: #cyclictest_lat_percentiles_99 出现次数: 90\n",
      "字段名: #unixbench_api                 出现次数: 64\n",
      "字段名: #unixbench_floating_score      出现次数: 64\n",
      "字段名: #unixbench_cpu                 出现次数: 64\n",
      "字段名: #unixbench_shell               出现次数: 64\n"
     ]
    }
   ],
   "source": [
    "wzryDF = pd.read_csv('data/processed_files/wzry.csv')\n",
    "wzryDFhashtags_dict = getKeyNum(wzryDF)\n",
    "print(wzryDF.shape)\n",
    "getTop10Key(wzryDFhashtags_dict)"
   ]
  }
 ],
 "metadata": {
  "kernelspec": {
   "display_name": "pytorch",
   "language": "python",
   "name": "python3"
  },
  "language_info": {
   "codemirror_mode": {
    "name": "ipython",
    "version": 3
   },
   "file_extension": ".py",
   "mimetype": "text/x-python",
   "name": "python",
   "nbconvert_exporter": "python",
   "pygments_lexer": "ipython3",
   "version": "3.6.15"
  },
  "orig_nbformat": 4
 },
 "nbformat": 4,
 "nbformat_minor": 2
}
