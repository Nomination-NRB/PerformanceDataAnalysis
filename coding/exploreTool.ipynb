{
 "cells": [
  {
   "cell_type": "code",
   "execution_count": 1,
   "metadata": {},
   "outputs": [],
   "source": [
    "import pandas as pd\n",
    "from collections import Counter\n",
    "import re\n",
    "import matplotlib.pyplot as plt\n",
    "import heapq\n",
    "import json\n",
    "import concurrent.futures\n",
    "from tqdm import tqdm"
   ]
  },
  {
   "cell_type": "code",
   "execution_count": 2,
   "metadata": {},
   "outputs": [],
   "source": [
    "def validate_json(json_str):\n",
    "    try:\n",
    "        json.loads(json_str)\n",
    "        return True\n",
    "    except:\n",
    "        return False\n",
    "\n",
    "def process_row(row):\n",
    "    if validate_json(row.dimension) and validate_json(row.results):\n",
    "        return row\n",
    "    else:\n",
    "        # 打印出错的行号\n",
    "        print(f'error json: {row.Index}\\n')\n",
    "        return None\n",
    "\n",
    "def judgeJson(keyTestT):\n",
    "    # 使用并行处理加速处理过程\n",
    "    with concurrent.futures.ThreadPoolExecutor() as executor:\n",
    "        results = list(tqdm(executor.map(process_row, keyTestT.itertuples()), total=len(keyTestT)))\n",
    "\n",
    "    # 过滤掉返回 None 的结果并重置索引\n",
    "    keyTestT = pd.DataFrame([r for r in results if r is not None])\n",
    "    keyTestT = keyTestT.reset_index(drop=True)\n",
    "    return keyTestT"
   ]
  },
  {
   "cell_type": "code",
   "execution_count": 3,
   "metadata": {},
   "outputs": [
    {
     "name": "stdout",
     "output_type": "stream",
     "text": [
      "filterFile.csv exists\n"
     ]
    }
   ],
   "source": [
    "# 判断data/文件夹下是否有filterFile.csv文件\n",
    "# 如果有则读取，如果没有则生成\n",
    "try:\n",
    "    df = pd.read_csv('data/filterFile.csv')\n",
    "    print('filterFile.csv exists')\n",
    "except FileNotFoundError:\n",
    "    df = pd.read_csv('data/origin_files/key_test_t.csv')\n",
    "    df = df[['results', 'dimension','results_key']]\n",
    "    df = judgeJson(df)\n",
    "    df.to_csv('data/filterFile.csv', index=False)\n",
    "    print('filterFile.csv created')"
   ]
  },
  {
   "cell_type": "code",
   "execution_count": 4,
   "metadata": {},
   "outputs": [],
   "source": [
    "# 针对results_key这一列，计数每一行的值出现的次数\n",
    "ResultsKeyCount = df['results_key'].value_counts()\n",
    "ResultsKeyCount = pd.DataFrame(ResultsKeyCount)\n",
    "ResultsKeyCount.columns = ['number']"
   ]
  },
  {
   "cell_type": "code",
   "execution_count": null,
   "metadata": {},
   "outputs": [],
   "source": [
    "ResultsKeyCount.head(10)"
   ]
  },
  {
   "cell_type": "code",
   "execution_count": null,
   "metadata": {},
   "outputs": [],
   "source": [
    "# 判断key_test中的dimension列中是否同时存在tool_name和test_name字段，如果不存在则error+1\n",
    "error = 0\n",
    "for i in range(len(df)):\n",
    "    if 'tool_name' not in df['dimension'][i] or 'test_name' not in df['dimension'][i]:\n",
    "        error += 1\n",
    "print(error)"
   ]
  },
  {
   "cell_type": "code",
   "execution_count": 30,
   "metadata": {},
   "outputs": [],
   "source": [
    "def getToolName(df):\n",
    "    tool_names = []\n",
    "    test_name = []\n",
    "    for dim in df['dimension']:\n",
    "        if dim:\n",
    "            dim_dict = json.loads(dim)\n",
    "            if 'tool_name' in dim_dict:\n",
    "                tool_names.append(dim_dict['tool_name'])\n",
    "            if 'test_name' in dim_dict:\n",
    "                test_name.append(dim_dict['test_name'])\n",
    "\n",
    "    tool_name_counts = Counter(tool_names)\n",
    "    test_name_counts = Counter(test_name)\n",
    "    return tool_name_counts, test_name_counts\n"
   ]
  },
  {
   "cell_type": "code",
   "execution_count": 31,
   "metadata": {},
   "outputs": [],
   "source": [
    "# 统计tool_name值出现的次数\n",
    "toolNameCount, testNameCount = getToolName(df)\n",
    "# 将Counter对象toolNameCount转换为DataFrame\n",
    "toolNameCount = pd.DataFrame.from_dict(toolNameCount, orient='index')\n",
    "toolNameCount.columns = ['number']\n",
    "# 将Counter对象testNameCount转换为DataFrame\n",
    "testNameCount = pd.DataFrame.from_dict(testNameCount, orient='index')\n",
    "testNameCount.columns = ['number']\n",
    "# 将toolNameCount和testNameCount按照number值降序排列\n",
    "toolNameCount = toolNameCount.sort_values(by='number', ascending=False)\n",
    "testNameCount = testNameCount.sort_values(by='number', ascending=False)"
   ]
  },
  {
   "cell_type": "code",
   "execution_count": 32,
   "metadata": {},
   "outputs": [
    {
     "data": {
      "text/html": [
       "<div>\n",
       "<style scoped>\n",
       "    .dataframe tbody tr th:only-of-type {\n",
       "        vertical-align: middle;\n",
       "    }\n",
       "\n",
       "    .dataframe tbody tr th {\n",
       "        vertical-align: top;\n",
       "    }\n",
       "\n",
       "    .dataframe thead th {\n",
       "        text-align: right;\n",
       "    }\n",
       "</style>\n",
       "<table border=\"1\" class=\"dataframe\">\n",
       "  <thead>\n",
       "    <tr style=\"text-align: right;\">\n",
       "      <th></th>\n",
       "      <th>number</th>\n",
       "    </tr>\n",
       "  </thead>\n",
       "  <tbody>\n",
       "    <tr>\n",
       "      <th>stream</th>\n",
       "      <td>101301</td>\n",
       "    </tr>\n",
       "    <tr>\n",
       "      <th>unixbench</th>\n",
       "      <td>78977</td>\n",
       "    </tr>\n",
       "    <tr>\n",
       "      <th>speccpu2017</th>\n",
       "      <td>46576</td>\n",
       "    </tr>\n",
       "    <tr>\n",
       "      <th>ls</th>\n",
       "      <td>44148</td>\n",
       "    </tr>\n",
       "    <tr>\n",
       "      <th>netperf</th>\n",
       "      <td>32252</td>\n",
       "    </tr>\n",
       "    <tr>\n",
       "      <th>vray</th>\n",
       "      <td>32015</td>\n",
       "    </tr>\n",
       "    <tr>\n",
       "      <th>mlc</th>\n",
       "      <td>27041</td>\n",
       "    </tr>\n",
       "    <tr>\n",
       "      <th>super_pi</th>\n",
       "      <td>21005</td>\n",
       "    </tr>\n",
       "    <tr>\n",
       "      <th>ping</th>\n",
       "      <td>20116</td>\n",
       "    </tr>\n",
       "    <tr>\n",
       "      <th>wzry</th>\n",
       "      <td>18589</td>\n",
       "    </tr>\n",
       "  </tbody>\n",
       "</table>\n",
       "</div>"
      ],
      "text/plain": [
       "             number\n",
       "stream       101301\n",
       "unixbench     78977\n",
       "speccpu2017   46576\n",
       "ls            44148\n",
       "netperf       32252\n",
       "vray          32015\n",
       "mlc           27041\n",
       "super_pi      21005\n",
       "ping          20116\n",
       "wzry          18589"
      ]
     },
     "execution_count": 32,
     "metadata": {},
     "output_type": "execute_result"
    }
   ],
   "source": [
    "toolNameCount.head(10)"
   ]
  },
  {
   "cell_type": "code",
   "execution_count": 33,
   "metadata": {},
   "outputs": [
    {
     "data": {
      "text/html": [
       "<div>\n",
       "<style scoped>\n",
       "    .dataframe tbody tr th:only-of-type {\n",
       "        vertical-align: middle;\n",
       "    }\n",
       "\n",
       "    .dataframe tbody tr th {\n",
       "        vertical-align: top;\n",
       "    }\n",
       "\n",
       "    .dataframe thead th {\n",
       "        text-align: right;\n",
       "    }\n",
       "</style>\n",
       "<table border=\"1\" class=\"dataframe\">\n",
       "  <thead>\n",
       "    <tr style=\"text-align: right;\">\n",
       "      <th></th>\n",
       "      <th>number</th>\n",
       "    </tr>\n",
       "  </thead>\n",
       "  <tbody>\n",
       "    <tr>\n",
       "      <th>stream_baseline</th>\n",
       "      <td>100212</td>\n",
       "    </tr>\n",
       "    <tr>\n",
       "      <th>unixbench_baseline</th>\n",
       "      <td>76567</td>\n",
       "    </tr>\n",
       "    <tr>\n",
       "      <th>demo</th>\n",
       "      <td>67427</td>\n",
       "    </tr>\n",
       "    <tr>\n",
       "      <th>speccpu2017_baseline</th>\n",
       "      <td>46285</td>\n",
       "    </tr>\n",
       "    <tr>\n",
       "      <th>netperf_baseline</th>\n",
       "      <td>30801</td>\n",
       "    </tr>\n",
       "    <tr>\n",
       "      <th>mlc_baseline</th>\n",
       "      <td>26799</td>\n",
       "    </tr>\n",
       "    <tr>\n",
       "      <th>super_pi_baseline</th>\n",
       "      <td>20989</td>\n",
       "    </tr>\n",
       "    <tr>\n",
       "      <th>ping_baseline</th>\n",
       "      <td>18899</td>\n",
       "    </tr>\n",
       "    <tr>\n",
       "      <th>wzry_baseline</th>\n",
       "      <td>18538</td>\n",
       "    </tr>\n",
       "    <tr>\n",
       "      <th>perf_bench_baseline</th>\n",
       "      <td>12937</td>\n",
       "    </tr>\n",
       "  </tbody>\n",
       "</table>\n",
       "</div>"
      ],
      "text/plain": [
       "                      number\n",
       "stream_baseline       100212\n",
       "unixbench_baseline     76567\n",
       "demo                   67427\n",
       "speccpu2017_baseline   46285\n",
       "netperf_baseline       30801\n",
       "mlc_baseline           26799\n",
       "super_pi_baseline      20989\n",
       "ping_baseline          18899\n",
       "wzry_baseline          18538\n",
       "perf_bench_baseline    12937"
      ]
     },
     "execution_count": 33,
     "metadata": {},
     "output_type": "execute_result"
    }
   ],
   "source": [
    "testNameCount.head(10)"
   ]
  },
  {
   "cell_type": "code",
   "execution_count": 34,
   "metadata": {},
   "outputs": [],
   "source": [
    "# 获得toolNameCount的前5的index\n",
    "toolNameCount_index = toolNameCount.index[:10].tolist()"
   ]
  },
  {
   "cell_type": "code",
   "execution_count": 35,
   "metadata": {},
   "outputs": [
    {
     "name": "stdout",
     "output_type": "stream",
     "text": [
      "['stream', 'unixbench', 'speccpu2017', 'ls', 'netperf', 'vray', 'mlc', 'super_pi', 'ping', 'wzry']\n"
     ]
    }
   ],
   "source": [
    "print(toolNameCount_index)"
   ]
  },
  {
   "cell_type": "code",
   "execution_count": 36,
   "metadata": {},
   "outputs": [],
   "source": [
    "\n",
    "def getKeyNum(df):\n",
    "    # 提取 results 列中带有 \"#\" 号的字段\n",
    "    pattern = r'#\\w+'  \n",
    "    results = df['results'].str.cat(sep=' ')  # 将所有 results 列的数据合并为一个字符串\n",
    "    hashtags = set(re.findall(pattern, results))  # 使用正则表达式提取带 \"#\" 号的字段，并去重\n",
    "\n",
    "    # 统计每个带 \"#\" 号的字段在整个文件中出现的次数\n",
    "    hashtags_dict = {}\n",
    "    for hashtag in hashtags:\n",
    "        count = results.count(hashtag)\n",
    "        hashtags_dict[hashtag] = count\n",
    "    return hashtags_dict\n",
    "\n",
    "\n",
    "def getTop10Key(hashtags_dict):\n",
    "    # 获取字典中数量前十的字段\n",
    "    top_n = 10  # 自定义获取前几个字段\n",
    "    top_n_fields = heapq.nlargest(top_n, hashtags_dict, key=hashtags_dict.get)\n",
    "    \n",
    "    print(\"数量前十的字段：\")\n",
    "    for field in top_n_fields:\n",
    "        print(\"字段名: {:<30s} 出现次数: {:d}\".format(field, hashtags_dict[field]))\n",
    "\n",
    "\n",
    "def getDivideFile(toolNameCount_index, df):\n",
    "    key_test = df.copy()\n",
    "    # 根据toolNameCount_index筛选出tool_name值为toolNameCount_index的行，并重置索引，保存为toolNameCount_index对应名字的csv文件\n",
    "    for tool_name in toolNameCount_index:\n",
    "        tool_name_df = key_test[key_test['dimension'].str.contains(tool_name)]\n",
    "        tool_name_df = tool_name_df.reset_index(drop=True)\n",
    "        # 只保留results_key,results,dimension列\n",
    "        tool_name_df = tool_name_df[['results_key', 'results', 'dimension']]\n",
    "        tool_name_df.to_csv('data/processed_files/' + tool_name + '.csv', index=False)"
   ]
  },
  {
   "cell_type": "code",
   "execution_count": 37,
   "metadata": {},
   "outputs": [],
   "source": [
    "getDivideFile(toolNameCount_index, df)"
   ]
  },
  {
   "cell_type": "code",
   "execution_count": 38,
   "metadata": {},
   "outputs": [
    {
     "name": "stdout",
     "output_type": "stream",
     "text": [
      "数量前十的字段：\n",
      "字段名: #stream_copy                   出现次数: 94146\n",
      "字段名: #stream_triad                  出现次数: 94146\n",
      "字段名: #stream_scale                  出现次数: 8369\n",
      "字段名: #stream_add                    出现次数: 8369\n",
      "字段名: #stream_ht2_triad              出现次数: 6038\n",
      "字段名: #stream_ht1_copy               出现次数: 6038\n",
      "字段名: #stream_ht1_triad              出现次数: 6038\n",
      "字段名: #stream_ht2_copy               出现次数: 6038\n",
      "字段名: #hrtimer_max                   出现次数: 748\n",
      "字段名: #hrtimer_avg                   出现次数: 748\n"
     ]
    }
   ],
   "source": [
    "streamDF = pd.read_csv('data/processed_files/stream.csv')\n",
    "streamDFhashtags_dict = getKeyNum(streamDF)\n",
    "getTop10Key(streamDFhashtags_dict)"
   ]
  },
  {
   "cell_type": "code",
   "execution_count": 39,
   "metadata": {},
   "outputs": [
    {
     "name": "stdout",
     "output_type": "stream",
     "text": [
      "数量前十的字段：\n",
      "字段名: #unixbench_cpu                 出现次数: 23439\n",
      "字段名: #unixbench_context             出现次数: 21972\n",
      "字段名: #unixbench_fork                出现次数: 12387\n",
      "字段名: #unixbench_api                 出现次数: 9037\n",
      "字段名: #unixbench_shell               出现次数: 8901\n",
      "字段名: #unixbench_floating_score      出现次数: 4681\n",
      "字段名: #unixbench_int_cpu             出现次数: 4130\n",
      "字段名: #unixbench_total               出现次数: 104\n",
      "字段名: #unixbench_system_call_overhead 出现次数: 101\n",
      "字段名: #unixbench_shell_scripts_8_concurrent 出现次数: 100\n"
     ]
    }
   ],
   "source": [
    "unixbenchDF = pd.read_csv('data/processed_files/unixbench.csv')\n",
    "unixbenchDFhashtags_dict = getKeyNum(unixbenchDF)\n",
    "getTop10Key(unixbenchDFhashtags_dict)"
   ]
  },
  {
   "cell_type": "code",
   "execution_count": 40,
   "metadata": {},
   "outputs": [
    {
     "name": "stdout",
     "output_type": "stream",
     "text": [
      "数量前十的字段：\n",
      "字段名: #speccpu2017_intspeed          出现次数: 13581\n",
      "字段名: #speccpu2017_fprate            出现次数: 12197\n",
      "字段名: #speccpu2017_intrate           出现次数: 11610\n",
      "字段名: #speccpu2017_fpspeed           出现次数: 8526\n",
      "字段名: #ping_avg                      出现次数: 32\n",
      "字段名: #ping_min                      出现次数: 16\n",
      "字段名: #ping_first_packet             出现次数: 16\n",
      "字段名: #ping_avg_99                   出现次数: 16\n",
      "字段名: #ping_max                      出现次数: 16\n",
      "字段名: #ping_percent_99               出现次数: 16\n"
     ]
    }
   ],
   "source": [
    "speccpuDF = pd.read_csv('data/processed_files/speccpu2017.csv')\n",
    "speccpuDFhashtags_dict = getKeyNum(speccpuDF)\n",
    "getTop10Key(speccpuDFhashtags_dict)"
   ]
  },
  {
   "cell_type": "code",
   "execution_count": 41,
   "metadata": {},
   "outputs": [
    {
     "name": "stdout",
     "output_type": "stream",
     "text": [
      "数量前十的字段：\n",
      "字段名: #ls_time                       出现次数: 44228\n",
      "字段名: #stream_triad                  出现次数: 4334\n",
      "字段名: #stream_copy                   出现次数: 4334\n",
      "字段名: #unixbench_cpu                 出现次数: 3164\n",
      "字段名: #unixbench_context             出现次数: 2930\n",
      "字段名: #stream_add                    出现次数: 2905\n",
      "字段名: #stream_scale                  出现次数: 2905\n",
      "字段名: #unixbench_api                 出现次数: 2810\n",
      "字段名: #unixbench_shell               出现次数: 2667\n",
      "字段名: #unixbench_fork                出现次数: 2634\n"
     ]
    }
   ],
   "source": [
    "lsDF = pd.read_csv('data/processed_files/ls.csv')\n",
    "lsDFhashtags_dict = getKeyNum(lsDF)\n",
    "getTop10Key(lsDFhashtags_dict)"
   ]
  },
  {
   "cell_type": "code",
   "execution_count": 42,
   "metadata": {},
   "outputs": [
    {
     "name": "stdout",
     "output_type": "stream",
     "text": [
      "数量前十的字段：\n",
      "字段名: #netperf_UDP_PPS_64            出现次数: 10165\n",
      "字段名: #netperf_TCP_Throughput_1500   出现次数: 8433\n",
      "字段名: #netperf_UDP_PPS_64_SEND       出现次数: 4805\n",
      "字段名: #netperf_UDP_RecvThroughput_1400 出现次数: 4622\n",
      "字段名: #netperf_TCP_Throughput_256    出现次数: 4528\n",
      "字段名: #netperf_TCP_Throughput_1500_SEND 出现次数: 3812\n",
      "字段名: #netperf_TCP_CRR_32_128        出现次数: 3555\n",
      "字段名: #netperf_recv_throughput       出现次数: 3547\n",
      "字段名: #netperf_TCP_Throughput_1400   出现次数: 3528\n",
      "字段名: #netperf_TCP_RR_32_128         出现次数: 3182\n"
     ]
    }
   ],
   "source": [
    "netperfDF = pd.read_csv('data/processed_files/netperf.csv')\n",
    "netperfDFhashtags_dict = getKeyNum(netperfDF)\n",
    "getTop10Key(netperfDFhashtags_dict)"
   ]
  },
  {
   "cell_type": "code",
   "execution_count": 43,
   "metadata": {},
   "outputs": [
    {
     "name": "stdout",
     "output_type": "stream",
     "text": [
      "数量前十的字段：\n",
      "字段名: #vray_render_time              出现次数: 32004\n",
      "字段名: #ls_time                       出现次数: 6\n",
      "字段名: #wzry_trainning_time           出现次数: 2\n",
      "字段名: #wzry_training_time            出现次数: 1\n"
     ]
    }
   ],
   "source": [
    "vrayDF = pd.read_csv('data/processed_files/vray.csv')\n",
    "vrayDFhashtags_dict = getKeyNum(vrayDF)\n",
    "getTop10Key(vrayDFhashtags_dict)"
   ]
  },
  {
   "cell_type": "code",
   "execution_count": 44,
   "metadata": {},
   "outputs": [
    {
     "name": "stdout",
     "output_type": "stream",
     "text": [
      "数量前十的字段：\n",
      "字段名: #mlc_idle_latency              出现次数: 7284\n",
      "字段名: #mlc_samenuma_latency_min      出现次数: 6882\n",
      "字段名: #mlc_samenuma_latency_max      出现次数: 6882\n",
      "字段名: #mlc_samenuma_bandwidth_max    出现次数: 4523\n",
      "字段名: #mlc_samenuma_bandwidth_min    出现次数: 4523\n",
      "字段名: #mlc_3                         出现次数: 4173\n",
      "字段名: #mlc_all_read                  出现次数: 4173\n",
      "字段名: #mlc_loaded_latency_max        出现次数: 4170\n",
      "字段名: #mlc_loaded_latency_min        出现次数: 4170\n",
      "字段名: #mlc_loaded_bandwidth_min      出现次数: 4167\n"
     ]
    }
   ],
   "source": [
    "mlcDF = pd.read_csv('data/processed_files/mlc.csv')\n",
    "mlcDFhashtags_dict = getKeyNum(mlcDF)\n",
    "getTop10Key(mlcDFhashtags_dict)"
   ]
  },
  {
   "cell_type": "code",
   "execution_count": 45,
   "metadata": {},
   "outputs": [
    {
     "name": "stdout",
     "output_type": "stream",
     "text": [
      "数量前十的字段：\n",
      "字段名: #super_pi_user_time            出现次数: 21005\n",
      "字段名: #super_pi_sys_time             出现次数: 21005\n",
      "字段名: #super_pi_real_time            出现次数: 21005\n"
     ]
    }
   ],
   "source": [
    "super_piDF = pd.read_csv('data/processed_files/super_pi.csv')\n",
    "super_piDFhashtags_dict = getKeyNum(super_piDF)\n",
    "getTop10Key(super_piDFhashtags_dict)"
   ]
  },
  {
   "cell_type": "code",
   "execution_count": 46,
   "metadata": {},
   "outputs": [
    {
     "name": "stdout",
     "output_type": "stream",
     "text": [
      "数量前十的字段：\n",
      "字段名: #ping_avg                      出现次数: 32822\n",
      "字段名: #ping_max                      出现次数: 20416\n",
      "字段名: #ping_min                      出现次数: 18389\n",
      "字段名: #ping_percent_99               出现次数: 14809\n",
      "字段名: #ping_avg_99                   出现次数: 14433\n",
      "字段名: #ping_percent_90               出现次数: 14164\n",
      "字段名: #ping_first_packet             出现次数: 13774\n",
      "字段名: #ping_flood_1ms                出现次数: 5983\n",
      "字段名: #tcpping_distribution_99       出现次数: 3431\n",
      "字段名: #tcpping_latency_max           出现次数: 1727\n"
     ]
    }
   ],
   "source": [
    "pingDF = pd.read_csv('data/processed_files/ping.csv')\n",
    "pingDFhashtags_dict = getKeyNum(pingDF)\n",
    "getTop10Key(pingDFhashtags_dict)"
   ]
  },
  {
   "cell_type": "code",
   "execution_count": 47,
   "metadata": {},
   "outputs": [
    {
     "name": "stdout",
     "output_type": "stream",
     "text": [
      "数量前十的字段：\n",
      "字段名: #wzry_training_time            出现次数: 18587\n",
      "字段名: #hrtimer_max                   出现次数: 150\n",
      "字段名: #hrtimer_avg                   出现次数: 150\n",
      "字段名: #hrtimer_overflow              出现次数: 150\n",
      "字段名: #hrtimer_min                   出现次数: 150\n",
      "字段名: #cyclictest_lat_percentiles_99 出现次数: 90\n",
      "字段名: #unixbench_fork                出现次数: 64\n",
      "字段名: #unixbench_cpu                 出现次数: 64\n",
      "字段名: #unixbench_api                 出现次数: 64\n",
      "字段名: #unixbench_floating_score      出现次数: 64\n"
     ]
    }
   ],
   "source": [
    "wzryDF = pd.read_csv('data/processed_files/wzry.csv')\n",
    "wzryDFhashtags_dict = getKeyNum(wzryDF)\n",
    "getTop10Key(wzryDFhashtags_dict)"
   ]
  }
 ],
 "metadata": {
  "kernelspec": {
   "display_name": "pytorch",
   "language": "python",
   "name": "python3"
  },
  "language_info": {
   "codemirror_mode": {
    "name": "ipython",
    "version": 3
   },
   "file_extension": ".py",
   "mimetype": "text/x-python",
   "name": "python",
   "nbconvert_exporter": "python",
   "pygments_lexer": "ipython3",
   "version": "3.6.15"
  },
  "orig_nbformat": 4
 },
 "nbformat": 4,
 "nbformat_minor": 2
}
