{
 "cells": [
  {
   "cell_type": "code",
   "execution_count": 24,
   "metadata": {},
   "outputs": [],
   "source": [
    "import json\n",
    "import tqdm\n",
    "import pandas as pd\n",
    "import numpy as np\n",
    "import matplotlib.pyplot as plt\n",
    "from sklearn.preprocessing import LabelEncoder, OneHotEncoder"
   ]
  },
  {
   "cell_type": "code",
   "execution_count": 25,
   "metadata": {},
   "outputs": [],
   "source": [
    "keyNamePath='data/key_name.csv'\n",
    "keyTestTConfigPath='data/key_test_t_config.csv'\n",
    "keyTestTScenesPath='data/key_test_t_scenes.csv'\n",
    "# keyTestTPath='data/key_test_t.csv'\n",
    "keyTestTPath='backup/forTest/keyTestT.csv'"
   ]
  },
  {
   "cell_type": "code",
   "execution_count": 26,
   "metadata": {},
   "outputs": [],
   "source": [
    "keyTestT = pd.read_csv(keyTestTPath, usecols=['dimension', 'results'])"
   ]
  },
  {
   "cell_type": "code",
   "execution_count": 27,
   "metadata": {},
   "outputs": [
    {
     "name": "stdout",
     "output_type": "stream",
     "text": [
      "<class 'pandas.core.frame.DataFrame'>\n",
      "RangeIndex: 50 entries, 0 to 49\n",
      "Data columns (total 2 columns):\n",
      " #   Column     Non-Null Count  Dtype \n",
      "---  ------     --------------  ----- \n",
      " 0   results    50 non-null     object\n",
      " 1   dimension  50 non-null     object\n",
      "dtypes: object(2)\n",
      "memory usage: 928.0+ bytes\n"
     ]
    }
   ],
   "source": [
    "keyTestT.info()"
   ]
  },
  {
   "cell_type": "code",
   "execution_count": 28,
   "metadata": {},
   "outputs": [
    {
     "data": {
      "text/html": [
       "<div>\n",
       "<style scoped>\n",
       "    .dataframe tbody tr th:only-of-type {\n",
       "        vertical-align: middle;\n",
       "    }\n",
       "\n",
       "    .dataframe tbody tr th {\n",
       "        vertical-align: top;\n",
       "    }\n",
       "\n",
       "    .dataframe thead th {\n",
       "        text-align: right;\n",
       "    }\n",
       "</style>\n",
       "<table border=\"1\" class=\"dataframe\">\n",
       "  <thead>\n",
       "    <tr style=\"text-align: right;\">\n",
       "      <th></th>\n",
       "      <th>results</th>\n",
       "      <th>dimension</th>\n",
       "    </tr>\n",
       "  </thead>\n",
       "  <tbody>\n",
       "    <tr>\n",
       "      <th>0</th>\n",
       "      <td>{\"#wrk_qps_avg\": 1547599.39, \"wrk_latency_avg\"...</td>\n",
       "      <td>{\"cvm_cpu\": \"62\", \"platform\": \"qcloud\", \"test_...</td>\n",
       "    </tr>\n",
       "    <tr>\n",
       "      <th>1</th>\n",
       "      <td>{\"openssl_des_size_16\": 27246690.0, \"openssl_d...</td>\n",
       "      <td>{\"cvm_cpu\": \"32\", \"platform\": \"qcloud\", \"test_...</td>\n",
       "    </tr>\n",
       "    <tr>\n",
       "      <th>2</th>\n",
       "      <td>{\"#ls_time\": 18}</td>\n",
       "      <td>{\"dd\": \"name_11\", \"cvm_cpu\": \"1\", \"platform\": ...</td>\n",
       "    </tr>\n",
       "    <tr>\n",
       "      <th>3</th>\n",
       "      <td>{\"#ls_time\": 18}</td>\n",
       "      <td>{\"dd\": \"name_11\", \"cvm_cpu\": \"1\", \"platform\": ...</td>\n",
       "    </tr>\n",
       "    <tr>\n",
       "      <th>4</th>\n",
       "      <td>{\"#mlc_idle_latency\": 90.6}</td>\n",
       "      <td>{\"cvm_cpu\": \"8\", \"platform\": \"default\", \"test_...</td>\n",
       "    </tr>\n",
       "  </tbody>\n",
       "</table>\n",
       "</div>"
      ],
      "text/plain": [
       "                                             results  \\\n",
       "0  {\"#wrk_qps_avg\": 1547599.39, \"wrk_latency_avg\"...   \n",
       "1  {\"openssl_des_size_16\": 27246690.0, \"openssl_d...   \n",
       "2                                   {\"#ls_time\": 18}   \n",
       "3                                   {\"#ls_time\": 18}   \n",
       "4                        {\"#mlc_idle_latency\": 90.6}   \n",
       "\n",
       "                                           dimension  \n",
       "0  {\"cvm_cpu\": \"62\", \"platform\": \"qcloud\", \"test_...  \n",
       "1  {\"cvm_cpu\": \"32\", \"platform\": \"qcloud\", \"test_...  \n",
       "2  {\"dd\": \"name_11\", \"cvm_cpu\": \"1\", \"platform\": ...  \n",
       "3  {\"dd\": \"name_11\", \"cvm_cpu\": \"1\", \"platform\": ...  \n",
       "4  {\"cvm_cpu\": \"8\", \"platform\": \"default\", \"test_...  "
      ]
     },
     "execution_count": 28,
     "metadata": {},
     "output_type": "execute_result"
    }
   ],
   "source": [
    "keyTestT.head()"
   ]
  },
  {
   "cell_type": "code",
   "execution_count": 29,
   "metadata": {},
   "outputs": [],
   "source": [
    "# 打印数组的前三个元素\n",
    "def showVec(outputRes,num=3):\n",
    "    for i in range(len(outputRes)):\n",
    "        if i<num:\n",
    "            print(outputRes[i])\n",
    "        else:\n",
    "            break\n",
    "\n",
    "def showDict(dict,num=3):\n",
    "    # 打印字典的前三个元素\n",
    "    for i, (key, value) in enumerate(dict.items()):\n",
    "        if i<num:\n",
    "            print(f\"{key}: {value}\")\n",
    "        else:\n",
    "            break\n",
    "\n",
    "# 获得所有的key\n",
    "def getAllKeys(inputJson):\n",
    "    for key in inputJson:\n",
    "        if isinstance(inputJson[key], dict):\n",
    "            getAllKeys(inputJson[key])  # 递归调用\n",
    "        else:\n",
    "            return key"
   ]
  },
  {
   "cell_type": "code",
   "execution_count": 30,
   "metadata": {},
   "outputs": [],
   "source": [
    "def getResultArgList(resultArgList):\n",
    "    # 解析results列的json数据，将每个json数据中带有#的数据提取出来，放入inputlist中，使用tqdm显示进度条\n",
    "    errornum = 0\n",
    "    for index, row in tqdm.tqdm(keyTestT.iterrows(), total=keyTestT.shape[0]):\n",
    "        result = row['results']\n",
    "        try:\n",
    "            resultJson = json.loads(result)\n",
    "            for key in resultJson:\n",
    "                if key.find('#') != -1:\n",
    "                    resultArgList.append(key)\n",
    "        except:\n",
    "            errornum += 1\n",
    "\n",
    "    print('json解析错误的数量：', errornum)\n",
    "    # 去重\n",
    "    resultArgList = list(set(resultArgList))\n",
    "    # 指标个数\n",
    "    print('指标个数：', len(resultArgList))\n",
    "    # 打印前五个指标\n",
    "    print('前五个指标：', resultArgList[:5])\n",
    "    return resultArgList\n",
    "\n",
    "def getOutput(keyTestT, column, inputStandardDict):\n",
    "    # 获得keyTestT中的results列的json数据\n",
    "    errornum = 0\n",
    "    res=[]\n",
    "    for index, row in tqdm.tqdm(keyTestT.iterrows(), total=keyTestT.shape[0]):\n",
    "        data = row[column]\n",
    "        resDict = inputStandardDict.copy()\n",
    "        try:\n",
    "            jsonData = json.loads(data)\n",
    "            for key in resDict.keys():\n",
    "                if key in jsonData:\n",
    "                    # 判断jsonData[key]是否为合法数字，若是合法数字，则将其赋值给resDict[key]\n",
    "                    if isinstance(jsonData[key], (int, float)):\n",
    "                        resDict[key] = float(jsonData[key])\n",
    "        except:\n",
    "            errornum += 1\n",
    "        # 将resDict中所有的value值提取出来，放入resFeature中\n",
    "        resFeature = list(resDict.values())\n",
    "        res.append(resFeature)\n",
    "    print('json解析错误的数量：', errornum)\n",
    "    res=np.array(res)\n",
    "    return res\n",
    "\n",
    "def getInputFeature(keyTestT):\n",
    "    errornum = 0\n",
    "    # 指定需要提取的字段\n",
    "    res=[]\n",
    "    keys_to_extract = ['cvm_cpu', 'cvm_memory', 'cvm_cpu_qos', 'cvm_os_type']\n",
    "    for index, row in tqdm.tqdm(keyTestT.iterrows(), total=keyTestT.shape[0]):\n",
    "        dimension = row['dimension']\n",
    "        # templist=[]\n",
    "        templist=['cvm_cpu', 'cvm_memory', 'cvm_cpu_qos', 'cvm_os_type']\n",
    "        try:\n",
    "            dimensionJson = json.loads(dimension)\n",
    "            for key in dimensionJson:\n",
    "                if key in keys_to_extract:  # 判断该字段是否需要提取\n",
    "                    if isinstance(dimensionJson[key], dict):\n",
    "                        key_value = getAllKeys(dimensionJson[key])\n",
    "                    else:\n",
    "                        key_value = dimensionJson[key]\n",
    "                    if key=='cvm_memory':\n",
    "                        key_value=float(key_value.split(' ')[0])\n",
    "                    elif key=='cvm_cpu':\n",
    "                        key_value=float(key_value)\n",
    "                    elif key=='cvm_cpu_qos':\n",
    "                        key_value=1.0\n",
    "                    templist[keys_to_extract.index(key)]=key_value\n",
    "            res.append(templist)\n",
    "        except:\n",
    "            errornum += 1\n",
    "    print('json解析错误的数量：', errornum)\n",
    "    return res\n",
    "\n",
    "def getInput(inputDim):\n",
    "    labelencoder = LabelEncoder()\n",
    "    onehotencoder = OneHotEncoder()\n",
    "    data = np.array(inputDim)[:, :4]\n",
    "    encoders = []\n",
    "    for i in range(data.shape[1]):\n",
    "        encoder = LabelEncoder()\n",
    "        encoder.fit(data[:, i])\n",
    "        data[:, i] = encoder.transform(data[:, i])\n",
    "        encoders.append(encoder)\n",
    "\n",
    "    data = data.astype(float)\n",
    "    return data"
   ]
  },
  {
   "cell_type": "code",
   "execution_count": 31,
   "metadata": {},
   "outputs": [],
   "source": [
    "resultArgList=[]\n",
    "dimensionArgList=[]"
   ]
  },
  {
   "cell_type": "code",
   "execution_count": 32,
   "metadata": {},
   "outputs": [
    {
     "name": "stderr",
     "output_type": "stream",
     "text": [
      "100%|██████████| 50/50 [00:00<00:00, 1612.92it/s]"
     ]
    },
    {
     "name": "stdout",
     "output_type": "stream",
     "text": [
      "json解析错误的数量： 0\n",
      "指标个数： 69\n",
      "前五个指标： ['#pgbench_SELECT_ONLY', '#openssl_rsa_size_1024_verify', '#openssl_rsa_size_2048_verify', '#ls_time', '#tcpping_distribution_999']\n"
     ]
    },
    {
     "name": "stderr",
     "output_type": "stream",
     "text": [
      "\n"
     ]
    }
   ],
   "source": [
    "resultArgList = getResultArgList(resultArgList)"
   ]
  },
  {
   "cell_type": "code",
   "execution_count": 33,
   "metadata": {},
   "outputs": [
    {
     "name": "stdout",
     "output_type": "stream",
     "text": [
      "#pgbench_SELECT_ONLY: 0\n",
      "#openssl_rsa_size_1024_verify: 0\n",
      "#openssl_rsa_size_2048_verify: 0\n"
     ]
    }
   ],
   "source": [
    "# 将resultArgList列表转换为字典，key为指标名称，value为0\n",
    "resDict = dict(zip(resultArgList, [0] * len(resultArgList)))\n",
    "showDict(resDict)"
   ]
  },
  {
   "cell_type": "code",
   "execution_count": 34,
   "metadata": {},
   "outputs": [
    {
     "name": "stderr",
     "output_type": "stream",
     "text": [
      "100%|██████████| 50/50 [00:00<00:00, 2631.24it/s]"
     ]
    },
    {
     "name": "stdout",
     "output_type": "stream",
     "text": [
      "json解析错误的数量： 0\n"
     ]
    },
    {
     "name": "stderr",
     "output_type": "stream",
     "text": [
      "\n"
     ]
    }
   ],
   "source": [
    "output=getOutput(keyTestT, 'results', resDict)"
   ]
  },
  {
   "cell_type": "code",
   "execution_count": 35,
   "metadata": {},
   "outputs": [
    {
     "name": "stdout",
     "output_type": "stream",
     "text": [
      "(50, 69)\n",
      "[      0.         0.         0.         0.         0.         0.\n",
      "       0.         0.         0.         0.         0.         0.\n",
      "       0.         0.         0.         0.         0.         0.\n",
      "       0.         0.         0.         0.         0.         0.\n",
      "       0.         0.         0.         0.         0.         0.\n",
      "       0.         0.         0.         0.         0.         0.\n",
      " 1547599.39       0.         0.         0.         0.         0.\n",
      "       0.         0.         0.         0.         0.         0.\n",
      "       0.         0.         0.         0.         0.         0.\n",
      "       0.         0.         0.         0.         0.         0.\n",
      "       0.         0.         0.         0.         0.         0.\n",
      "       0.         0.         0.  ]\n",
      "[0.00000000e+00 1.69156800e+05 5.38582000e+04 0.00000000e+00\n",
      " 0.00000000e+00 2.50346500e+07 1.86794640e+08 0.00000000e+00\n",
      " 1.69255520e+08 0.00000000e+00 6.88029040e+08 0.00000000e+00\n",
      " 1.56977930e+08 6.40550830e+08 1.69277510e+08 0.00000000e+00\n",
      " 1.02205000e+04 0.00000000e+00 0.00000000e+00 0.00000000e+00\n",
      " 0.00000000e+00 0.00000000e+00 4.63084970e+08 0.00000000e+00\n",
      " 0.00000000e+00 1.68236760e+08 8.76027720e+08 3.04494350e+08\n",
      " 9.85994600e+07 0.00000000e+00 2.31100000e+02 1.13880243e+09\n",
      " 2.16549540e+08 2.20491340e+08 0.00000000e+00 2.21617310e+08\n",
      " 0.00000000e+00 0.00000000e+00 6.84749490e+08 0.00000000e+00\n",
      " 2.21211400e+08 2.21953720e+08 1.69084740e+08 0.00000000e+00\n",
      " 0.00000000e+00 1.48608000e+04 0.00000000e+00 0.00000000e+00\n",
      " 4.55058895e+09 0.00000000e+00 5.23630360e+08 0.00000000e+00\n",
      " 1.38796040e+08 1.25442062e+09 0.00000000e+00 0.00000000e+00\n",
      " 0.00000000e+00 0.00000000e+00 0.00000000e+00 1.56420000e+03\n",
      " 0.00000000e+00 1.66032790e+08 5.52291556e+09 3.79233260e+08\n",
      " 2.01371230e+08 1.24583551e+09 1.31913393e+09 0.00000000e+00\n",
      " 0.00000000e+00]\n",
      "[ 0.  0.  0. 18.  0.  0.  0.  0.  0.  0.  0.  0.  0.  0.  0.  0.  0.  0.\n",
      "  0.  0.  0.  0.  0.  0.  0.  0.  0.  0.  0.  0.  0.  0.  0.  0.  0.  0.\n",
      "  0.  0.  0.  0.  0.  0.  0.  0.  0.  0.  0.  0.  0.  0.  0.  0.  0.  0.\n",
      "  0.  0.  0.  0.  0.  0.  0.  0.  0.  0.  0.  0.  0.  0.  0.]\n",
      "[ 0.  0.  0. 18.  0.  0.  0.  0.  0.  0.  0.  0.  0.  0.  0.  0.  0.  0.\n",
      "  0.  0.  0.  0.  0.  0.  0.  0.  0.  0.  0.  0.  0.  0.  0.  0.  0.  0.\n",
      "  0.  0.  0.  0.  0.  0.  0.  0.  0.  0.  0.  0.  0.  0.  0.  0.  0.  0.\n",
      "  0.  0.  0.  0.  0.  0.  0.  0.  0.  0.  0.  0.  0.  0.  0.]\n",
      "[ 0.   0.   0.   0.   0.   0.   0.   0.   0.   0.   0.   0.   0.   0.\n",
      "  0.   0.   0.   0.   0.   0.   0.   0.   0.   0.   0.   0.   0.   0.\n",
      "  0.   0.   0.   0.   0.   0.   0.   0.   0.   0.   0.   0.   0.   0.\n",
      "  0.   0.   0.   0.   0.   0.   0.   0.   0.   0.   0.   0.   0.  90.6\n",
      "  0.   0.   0.   0.   0.   0.   0.   0.   0.   0.   0.   0.   0. ]\n"
     ]
    }
   ],
   "source": [
    "print(output.shape)\n",
    "showVec(output,5)"
   ]
  },
  {
   "cell_type": "code",
   "execution_count": 36,
   "metadata": {},
   "outputs": [
    {
     "name": "stderr",
     "output_type": "stream",
     "text": [
      "100%|██████████| 50/50 [00:00<00:00, 2941.14it/s]"
     ]
    },
    {
     "name": "stdout",
     "output_type": "stream",
     "text": [
      "json解析错误的数量： 0\n"
     ]
    },
    {
     "name": "stderr",
     "output_type": "stream",
     "text": [
      "\n"
     ]
    }
   ],
   "source": [
    "inputDim = getInputFeature(keyTestT)"
   ]
  },
  {
   "cell_type": "code",
   "execution_count": 37,
   "metadata": {},
   "outputs": [],
   "source": [
    "input=getInput(inputDim)"
   ]
  },
  {
   "cell_type": "code",
   "execution_count": 38,
   "metadata": {},
   "outputs": [
    {
     "name": "stdout",
     "output_type": "stream",
     "text": [
      "(50, 4)\n",
      "[7. 4. 0. 4.]\n",
      "[ 4. 10.  0.  4.]\n",
      "[0. 2. 1. 8.]\n",
      "[0. 2. 1. 8.]\n",
      "[9. 0. 1. 0.]\n"
     ]
    }
   ],
   "source": [
    "print(input.shape)\n",
    "showVec(input,5)"
   ]
  },
  {
   "cell_type": "code",
   "execution_count": 39,
   "metadata": {},
   "outputs": [],
   "source": [
    "import torch\n",
    "from torch.utils.data import Dataset, DataLoader\n",
    "\n",
    "# 定义数据集类\n",
    "class MyDataset(Dataset):\n",
    "    def __init__(self, input, output):\n",
    "        self.input = input\n",
    "        self.output = output\n",
    "        \n",
    "    def __len__(self):\n",
    "        return len(self.input)\n",
    "    \n",
    "    def __getitem__(self, idx):\n",
    "        x = torch.tensor(self.input[idx], dtype=torch.float32)\n",
    "        y = torch.tensor(self.output[idx], dtype=torch.float32)\n",
    "        return x, y\n",
    "\n",
    "# 定义模型类\n",
    "class MyModel(torch.nn.Module):\n",
    "    def __init__(self):\n",
    "        super(MyModel, self).__init__()\n",
    "        self.fc1 = torch.nn.Linear(4, 32)\n",
    "        self.fc2 = torch.nn.Linear(32, 69)\n",
    "        self.relu = torch.nn.ReLU()\n",
    "        \n",
    "    def forward(self, x):\n",
    "        x = self.fc1(x)\n",
    "        x = self.relu(x)\n",
    "        x = self.fc2(x)\n",
    "        return x"
   ]
  },
  {
   "cell_type": "code",
   "execution_count": 50,
   "metadata": {},
   "outputs": [],
   "source": [
    "device = torch.device(\"cuda:0\" if torch.cuda.is_available() else \"cpu\")"
   ]
  },
  {
   "cell_type": "code",
   "execution_count": 56,
   "metadata": {},
   "outputs": [],
   "source": [
    "# 将数据集和模型放入GPU\n",
    "model = MyModel().to(device)\n",
    "\n",
    "# 将input和output放在device中\n",
    "inputs = torch.tensor(input).to(device)\n",
    "outputs = torch.tensor(output).to(device)\n",
    "\n",
    "# 创建数据集和数据加载器\n",
    "dataset = MyDataset(input, output)\n",
    "dataloader = DataLoader(dataset, batch_size=16, shuffle=True)"
   ]
  },
  {
   "cell_type": "code",
   "execution_count": 57,
   "metadata": {},
   "outputs": [],
   "source": [
    "# 损失函数\n",
    "criterion = torch.nn.MSELoss()\n",
    "# criterion = torch.nn.CrossEntropyLoss()\n",
    "optimizer = torch.optim.SGD(model.parameters(), lr=0.01)"
   ]
  },
  {
   "cell_type": "code",
   "execution_count": 62,
   "metadata": {},
   "outputs": [],
   "source": [
    "# 定义空列表存储每个epoch的损失和准确率\n",
    "train_loss = []\n",
    "train_acc = []"
   ]
  },
  {
   "cell_type": "code",
   "execution_count": 60,
   "metadata": {},
   "outputs": [],
   "source": [
    "def train(epoch):\n",
    "    model.train()\n",
    "    running_loss = 0.0\n",
    "    running_acc = 0.0\n",
    "    for i, data in enumerate(dataloader):\n",
    "        inputs, labels = data\n",
    "        inputs = inputs.to(device)\n",
    "        labels = labels.to(device)\n",
    "        optimizer.zero_grad()\n",
    "        outputs = model(inputs)\n",
    "        loss = criterion(outputs, labels)\n",
    "        loss.backward()\n",
    "        optimizer.step()\n",
    "        running_loss += loss.item()\n",
    "    print('Epoch: {}, Loss: {:.6f}'.format(epoch, running_loss / len(dataloader)))\n",
    "    train_loss.append(running_loss / len(dataloader))"
   ]
  },
  {
   "cell_type": "code",
   "execution_count": 61,
   "metadata": {},
   "outputs": [
    {
     "name": "stdout",
     "output_type": "stream",
     "text": [
      "Epoch: 10, Loss: 292783689877351995308475208957952.000000\n"
     ]
    }
   ],
   "source": [
    "# train(10)"
   ]
  },
  {
   "cell_type": "code",
   "execution_count": 74,
   "metadata": {},
   "outputs": [],
   "source": [
    "numEpoch = 10000"
   ]
  },
  {
   "cell_type": "code",
   "execution_count": 75,
   "metadata": {},
   "outputs": [
    {
     "name": "stdout",
     "output_type": "stream",
     "text": [
      "Epoch 1 loss: 44056786172773165694976.000\n",
      "Epoch 1001 loss: 4333198909853514334208.000\n",
      "Epoch 2001 loss: 426191631775746293760.000\n",
      "Epoch 3001 loss: 41918901567739535360.000\n",
      "Epoch 4001 loss: 4123907388012935168.000\n",
      "Epoch 5001 loss: 406583270115985344.000\n",
      "Epoch 6001 loss: 40968062323361056.000\n",
      "Epoch 7001 loss: 5007289340028518.000\n",
      "Epoch 8001 loss: 1470440293542133.750\n",
      "Epoch 9001 loss: 1122616146646794.250\n"
     ]
    },
    {
     "data": {
      "image/png": "[encoded data removed]",
      "text/plain": [
       "<Figure size 432x288 with 1 Axes>"
      ]
     },
     "metadata": {
      "needs_background": "light"
     },
     "output_type": "display_data"
    }
   ],
   "source": [
    "for epoch in range(numEpoch):\n",
    "    running_loss = 0.0\n",
    "    correct = 0\n",
    "    total = 0\n",
    "    \n",
    "    for i, data in enumerate(dataloader):\n",
    "        inputs, labels = data\n",
    "        inputs = inputs.to(device)\n",
    "        labels = labels.to(device)\n",
    "        optimizer.zero_grad()\n",
    "        outputs = model(inputs)\n",
    "        loss = criterion(outputs, labels)\n",
    "        loss.backward()\n",
    "        optimizer.step()\n",
    "        \n",
    "        # 统计损失和准确率\n",
    "        running_loss += loss.item()\n",
    "        total += labels.size(0)\n",
    "    \n",
    "    # 计算每个epoch的平均损失和准确率\n",
    "    epoch_loss = running_loss/len(dataset)\n",
    "    train_loss.append(epoch_loss)\n",
    "\n",
    "    if epoch % 1000 == 0:\n",
    "        print('Epoch %d loss: %.3f' % (epoch+1, epoch_loss))\n",
    "\n",
    "# 绘制损失和准确率曲线\n",
    "plt.plot(range(len(train_loss)), train_loss, label='train_loss')\n",
    "plt.xlabel('Epochs')\n",
    "plt.legend()\n",
    "plt.show()"
   ]
  },
  {
   "attachments": {},
   "cell_type": "markdown",
   "metadata": {},
   "source": [
    "# 待研究"
   ]
  },
  {
   "cell_type": "code",
   "execution_count": null,
   "metadata": {},
   "outputs": [],
   "source": [
    "import torch\n",
    "import torch.nn as nn\n",
    "import torch.optim as optim\n",
    "import matplotlib.pyplot as plt\n",
    "import numpy as np\n",
    "\n",
    "# 定义模型\n",
    "class Net(nn.Module):\n",
    "    def __init__(self):\n",
    "        super(Net, self).__init__()\n",
    "        self.fc1 = nn.Linear(4, 32)\n",
    "        self.fc2 = nn.Linear(32, 69)\n",
    "        self.softmax = nn.Softmax(dim=1)\n",
    "\n",
    "    def forward(self, x):\n",
    "        x = torch.relu(self.fc1(x))\n",
    "        x = self.fc2(x)\n",
    "        x = self.softmax(x)\n",
    "        return x\n",
    "\n",
    "# 准备数据\n",
    "input = torch.tensor(np.random.rand(50, 4)).float()\n",
    "output = torch.tensor(np.random.rand(50, 69)).float()\n",
    "\n",
    "# 定义损失函数和优化器\n",
    "criterion = nn.MSELoss()\n",
    "optimizer = optim.Adam(model.parameters(), lr=0.01)\n",
    "\n",
    "# 训练模型\n",
    "num_epochs = 10\n",
    "losses = []\n",
    "accuracies = []\n",
    "for epoch in range(num_epochs):\n",
    "    running_loss = 0.0\n",
    "    correct = 0\n",
    "    total = 0\n",
    "    for i in range(len(input)):\n",
    "        inputs, labels = input[i], output[i]\n",
    "        optimizer.zero_grad()\n",
    "        outputs = model(inputs.unsqueeze(0))\n",
    "        loss = criterion(outputs, labels.unsqueeze(0))\n",
    "        loss.backward()\n",
    "        optimizer.step()\n",
    "        running_loss += loss.item()\n",
    "        _, predicted = torch.max(outputs.data, 1)\n",
    "        total += labels.size(0)\n",
    "        correct += (predicted == labels).sum().item()\n",
    "    epoch_loss = running_loss / len(input)\n",
    "    epoch_accuracy = 100.0 * correct / total\n",
    "    losses.append(epoch_loss)\n",
    "    accuracies.append(epoch_accuracy)\n",
    "    print('Epoch %d loss: %.3f accuracy: %.3f' % (epoch+1, epoch_loss, epoch_accuracy))\n",
    "\n",
    "# 绘制图表\n",
    "plt.plot(losses, label='Loss')\n",
    "plt.plot(accuracies, label='Accuracy')\n",
    "plt.legend()\n",
    "plt.show()\n"
   ]
  }
 ],
 "metadata": {
  "kernelspec": {
   "display_name": "pytorch",
   "language": "python",
   "name": "python3"
  },
  "language_info": {
   "codemirror_mode": {
    "name": "ipython",
    "version": 3
   },
   "file_extension": ".py",
   "mimetype": "text/x-python",
   "name": "python",
   "nbconvert_exporter": "python",
   "pygments_lexer": "ipython3",
   "version": "3.6.15"
  },
  "orig_nbformat": 4
 },
 "nbformat": 4,
 "nbformat_minor": 2
}
