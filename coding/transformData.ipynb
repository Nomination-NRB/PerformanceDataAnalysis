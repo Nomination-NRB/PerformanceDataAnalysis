{
 "cells": [
  {
   "cell_type": "code",
   "execution_count": 2,
   "metadata": {},
   "outputs": [],
   "source": [
    "import pandas as pd\n",
    "import json\n",
    "import tqdm"
   ]
  },
  {
   "cell_type": "code",
   "execution_count": 3,
   "metadata": {},
   "outputs": [],
   "source": [
    "keyNamePath='data/key_name.csv'\n",
    "keyTestTConfigPath='data/key_test_t_config.csv'\n",
    "keyTestTScenesPath='data/key_test_t_scenes.csv'\n",
    "# keyTestTPath='data/key_test_t.csv'\n",
    "keyTestTPath='backup/forTest/keyTestT.csv'"
   ]
  },
  {
   "cell_type": "code",
   "execution_count": 4,
   "metadata": {},
   "outputs": [],
   "source": [
    "keyTestT = pd.read_csv(keyTestTPath, usecols=['dimension', 'results'])"
   ]
  },
  {
   "cell_type": "code",
   "execution_count": 5,
   "metadata": {},
   "outputs": [
    {
     "name": "stdout",
     "output_type": "stream",
     "text": [
      "<class 'pandas.core.frame.DataFrame'>\n",
      "RangeIndex: 50 entries, 0 to 49\n",
      "Data columns (total 2 columns):\n",
      " #   Column     Non-Null Count  Dtype \n",
      "---  ------     --------------  ----- \n",
      " 0   results    50 non-null     object\n",
      " 1   dimension  50 non-null     object\n",
      "dtypes: object(2)\n",
      "memory usage: 928.0+ bytes\n"
     ]
    }
   ],
   "source": [
    "keyTestT.info()"
   ]
  },
  {
   "cell_type": "code",
   "execution_count": 6,
   "metadata": {},
   "outputs": [
    {
     "data": {
      "text/html": [
       "<div>\n",
       "<style scoped>\n",
       "    .dataframe tbody tr th:only-of-type {\n",
       "        vertical-align: middle;\n",
       "    }\n",
       "\n",
       "    .dataframe tbody tr th {\n",
       "        vertical-align: top;\n",
       "    }\n",
       "\n",
       "    .dataframe thead th {\n",
       "        text-align: right;\n",
       "    }\n",
       "</style>\n",
       "<table border=\"1\" class=\"dataframe\">\n",
       "  <thead>\n",
       "    <tr style=\"text-align: right;\">\n",
       "      <th></th>\n",
       "      <th>results</th>\n",
       "      <th>dimension</th>\n",
       "    </tr>\n",
       "  </thead>\n",
       "  <tbody>\n",
       "    <tr>\n",
       "      <th>0</th>\n",
       "      <td>{\"#wrk_qps_avg\": 1547599.39, \"wrk_latency_avg\"...</td>\n",
       "      <td>{\"cvm_cpu\": \"62\", \"platform\": \"qcloud\", \"test_...</td>\n",
       "    </tr>\n",
       "    <tr>\n",
       "      <th>1</th>\n",
       "      <td>{\"openssl_des_size_16\": 27246690.0, \"openssl_d...</td>\n",
       "      <td>{\"cvm_cpu\": \"32\", \"platform\": \"qcloud\", \"test_...</td>\n",
       "    </tr>\n",
       "    <tr>\n",
       "      <th>2</th>\n",
       "      <td>{\"#ls_time\": 18}</td>\n",
       "      <td>{\"dd\": \"name_11\", \"cvm_cpu\": \"1\", \"platform\": ...</td>\n",
       "    </tr>\n",
       "    <tr>\n",
       "      <th>3</th>\n",
       "      <td>{\"#ls_time\": 18}</td>\n",
       "      <td>{\"dd\": \"name_11\", \"cvm_cpu\": \"1\", \"platform\": ...</td>\n",
       "    </tr>\n",
       "    <tr>\n",
       "      <th>4</th>\n",
       "      <td>{\"#mlc_idle_latency\": 90.6}</td>\n",
       "      <td>{\"cvm_cpu\": \"8\", \"platform\": \"default\", \"test_...</td>\n",
       "    </tr>\n",
       "  </tbody>\n",
       "</table>\n",
       "</div>"
      ],
      "text/plain": [
       "                                             results  \\\n",
       "0  {\"#wrk_qps_avg\": 1547599.39, \"wrk_latency_avg\"...   \n",
       "1  {\"openssl_des_size_16\": 27246690.0, \"openssl_d...   \n",
       "2                                   {\"#ls_time\": 18}   \n",
       "3                                   {\"#ls_time\": 18}   \n",
       "4                        {\"#mlc_idle_latency\": 90.6}   \n",
       "\n",
       "                                           dimension  \n",
       "0  {\"cvm_cpu\": \"62\", \"platform\": \"qcloud\", \"test_...  \n",
       "1  {\"cvm_cpu\": \"32\", \"platform\": \"qcloud\", \"test_...  \n",
       "2  {\"dd\": \"name_11\", \"cvm_cpu\": \"1\", \"platform\": ...  \n",
       "3  {\"dd\": \"name_11\", \"cvm_cpu\": \"1\", \"platform\": ...  \n",
       "4  {\"cvm_cpu\": \"8\", \"platform\": \"default\", \"test_...  "
      ]
     },
     "execution_count": 6,
     "metadata": {},
     "output_type": "execute_result"
    }
   ],
   "source": [
    "keyTestT.head()"
   ]
  },
  {
   "cell_type": "code",
   "execution_count": 7,
   "metadata": {},
   "outputs": [],
   "source": [
    "resultArgList=[]\n",
    "dimensionArgList=[]"
   ]
  },
  {
   "cell_type": "code",
   "execution_count": 8,
   "metadata": {},
   "outputs": [],
   "source": [
    "def getResultArgList(resultArgList):\n",
    "    # 解析results列的json数据，将每个json数据中带有#的数据提取出来，放入inputlist中，使用tqdm显示进度条\n",
    "    errornum = 0\n",
    "    for index, row in tqdm.tqdm(keyTestT.iterrows(), total=keyTestT.shape[0]):\n",
    "        result = row['results']\n",
    "        try:\n",
    "            resultJson = json.loads(result)\n",
    "            for key in resultJson:\n",
    "                if key.find('#') != -1:\n",
    "                    resultArgList.append(key)\n",
    "        except:\n",
    "            errornum += 1\n",
    "\n",
    "    print('json解析错误的数量：', errornum)\n",
    "    # 去重\n",
    "    resultArgList = list(set(resultArgList))\n",
    "    # 指标个数\n",
    "    print('指标个数：', len(resultArgList))\n",
    "    # 打印前五个指标\n",
    "    print('前五个指标：', resultArgList[:5])\n",
    "    return resultArgList"
   ]
  },
  {
   "cell_type": "code",
   "execution_count": 9,
   "metadata": {},
   "outputs": [
    {
     "name": "stderr",
     "output_type": "stream",
     "text": [
      "100%|██████████| 50/50 [00:00<00:00, 5914.13it/s]"
     ]
    },
    {
     "name": "stdout",
     "output_type": "stream",
     "text": [
      "json解析错误的数量： 0\n",
      "指标个数： 69\n",
      "前五个指标： ['#mlc_idle_latency', '#openssl_sha256_size_16', '#openssl_aes_256_size_16384', '#ping_min', '#stress_ng_real_time_ops_per_s']\n"
     ]
    },
    {
     "name": "stderr",
     "output_type": "stream",
     "text": [
      "\n"
     ]
    }
   ],
   "source": [
    "resultArgList = getResultArgList(resultArgList)"
   ]
  },
  {
   "cell_type": "code",
   "execution_count": 10,
   "metadata": {},
   "outputs": [],
   "source": [
    "# 打印outputRes的前三个元素\n",
    "def showVec(outputRes,num=3):\n",
    "    for i in range(len(outputRes)):\n",
    "        if i<num:\n",
    "            print(outputRes[i])\n",
    "        else:\n",
    "            break"
   ]
  },
  {
   "cell_type": "code",
   "execution_count": 11,
   "metadata": {},
   "outputs": [],
   "source": [
    "def getAllKeys(inputJson):\n",
    "    for key in inputJson:\n",
    "        if isinstance(inputJson[key], dict):\n",
    "            getAllKeys(inputJson[key])  # 递归调用\n",
    "        else:\n",
    "            return key"
   ]
  },
  {
   "cell_type": "code",
   "execution_count": 12,
   "metadata": {},
   "outputs": [],
   "source": [
    "def getInputFeature(keyTestT):\n",
    "    errornum = 0\n",
    "    # 指定需要提取的字段\n",
    "    res=[]\n",
    "    keys_to_extract = ['cvm_cpu', 'cvm_memory', 'cvm_cpu_qos', 'cvm_os_type']\n",
    "    for index, row in tqdm.tqdm(keyTestT.iterrows(), total=keyTestT.shape[0]):\n",
    "        dimension = row['dimension']\n",
    "        # templist=[]\n",
    "        templist=['cvm_cpu', 'cvm_memory', 'cvm_cpu_qos', 'cvm_os_type']\n",
    "        try:\n",
    "            dimensionJson = json.loads(dimension)\n",
    "            for key in dimensionJson:\n",
    "                if key in keys_to_extract:  # 判断该字段是否需要提取\n",
    "                    if isinstance(dimensionJson[key], dict):\n",
    "                        key_value = getAllKeys(dimensionJson[key])\n",
    "                    else:\n",
    "                        key_value = dimensionJson[key]\n",
    "                    if key=='cvm_memory':\n",
    "                        key_value=float(key_value.split(' ')[0])\n",
    "                    elif key=='cvm_cpu':\n",
    "                        key_value=float(key_value)\n",
    "                    elif key=='cvm_cpu_qos':\n",
    "                        key_value=1.0\n",
    "                    templist[keys_to_extract.index(key)]=key_value\n",
    "            res.append(templist)\n",
    "        except:\n",
    "            errornum += 1\n",
    "    print('json解析错误的数量：', errornum)\n",
    "    return res"
   ]
  },
  {
   "cell_type": "code",
   "execution_count": 13,
   "metadata": {},
   "outputs": [],
   "source": [
    "# def getDimensionArgList(dimensionArgList):\n",
    "#     # 解析dimension列的json数据，将每个字段都提取出来，放入resultArgList中，使用tqdm显示进度条\n",
    "#     errornum = 0\n",
    "#     for index, row in tqdm.tqdm(keyTestT.iterrows(), total=keyTestT.shape[0]):\n",
    "#         dimension = row['dimension']\n",
    "#         try:\n",
    "#             dimensionJson = json.loads(dimension)\n",
    "#             for key in dimensionJson:\n",
    "#                 if isinstance(dimensionJson[key], dict):\n",
    "#                     key = getAllKeys(dimensionJson[key])\n",
    "#                 else:\n",
    "#                     key = dimensionJson[key]\n",
    "#         except:\n",
    "#             errornum += 1\n",
    "#     print('json解析错误的数量：', errornum)\n",
    "#     # 去重\n",
    "#     dimensionArgList = list(set(dimensionArgList))\n",
    "#     # 指标个数\n",
    "#     print('指标个数：', len(dimensionArgList))\n",
    "#     # 打印前五个指标\n",
    "#     print('前五个指标：', dimensionArgList[:5])\n",
    "#     return dimensionArgList"
   ]
  },
  {
   "cell_type": "code",
   "execution_count": 14,
   "metadata": {},
   "outputs": [
    {
     "name": "stderr",
     "output_type": "stream",
     "text": [
      "100%|██████████| 50/50 [00:00<00:00, 4163.41it/s]"
     ]
    },
    {
     "name": "stdout",
     "output_type": "stream",
     "text": [
      "json解析错误的数量： 0\n"
     ]
    },
    {
     "name": "stderr",
     "output_type": "stream",
     "text": [
      "\n"
     ]
    }
   ],
   "source": [
    "inputDim = getInputFeature(keyTestT)"
   ]
  },
  {
   "cell_type": "code",
   "execution_count": 15,
   "metadata": {},
   "outputs": [
    {
     "name": "stdout",
     "output_type": "stream",
     "text": [
      "[62.0, 214.0, 1.0, 'CentOS Linux release 8.2.2004 (Core)']\n",
      "[32.0, 64.0, 1.0, 'CentOS Linux release 8.2.2004 (Core)']\n",
      "[1.0, 2.0, 'cvm_cpu_qos', 'cvm_os_type']\n",
      "[1.0, 2.0, 'cvm_cpu_qos', 'cvm_os_type']\n",
      "[8.0, 16.0, 'cvm_cpu_qos', 'CentOS Linux release 7.2 (Final)']\n"
     ]
    }
   ],
   "source": [
    "showVec(inputDim,5)"
   ]
  },
  {
   "cell_type": "code",
   "execution_count": 16,
   "metadata": {},
   "outputs": [],
   "source": [
    "from sklearn.preprocessing import LabelEncoder, OneHotEncoder\n",
    "import numpy as np"
   ]
  },
  {
   "cell_type": "code",
   "execution_count": 32,
   "metadata": {},
   "outputs": [],
   "source": [
    "def getInput(inputDim):\n",
    "    labelencoder = LabelEncoder()\n",
    "    onehotencoder = OneHotEncoder()\n",
    "    data = np.array(inputDim)[:, :4]\n",
    "    encoders = []\n",
    "    for i in range(data.shape[1]):\n",
    "        encoder = LabelEncoder()\n",
    "        encoder.fit(data[:, i])\n",
    "        data[:, i] = encoder.transform(data[:, i])\n",
    "        encoders.append(encoder)\n",
    "\n",
    "    data = data.astype(float)\n",
    "    return data"
   ]
  },
  {
   "cell_type": "code",
   "execution_count": 33,
   "metadata": {},
   "outputs": [],
   "source": [
    "input=getInput(inputDim)"
   ]
  },
  {
   "cell_type": "code",
   "execution_count": 36,
   "metadata": {},
   "outputs": [
    {
     "name": "stdout",
     "output_type": "stream",
     "text": [
      "(50, 4)\n",
      "[7. 4. 0. 4.]\n",
      "[ 4. 10.  0.  4.]\n",
      "[0. 2. 1. 8.]\n",
      "[0. 2. 1. 8.]\n",
      "[9. 0. 1. 0.]\n"
     ]
    }
   ],
   "source": [
    "print(input.shape)\n",
    "showVec(input,5)"
   ]
  },
  {
   "cell_type": "code",
   "execution_count": 19,
   "metadata": {},
   "outputs": [],
   "source": [
    "def showDict(dict,num=3):\n",
    "    # 打印字典的前三个元素\n",
    "    for i, (key, value) in enumerate(dict.items()):\n",
    "        if i<num:\n",
    "            print(f\"{key}: {value}\")\n",
    "        else:\n",
    "            break"
   ]
  },
  {
   "cell_type": "code",
   "execution_count": 20,
   "metadata": {},
   "outputs": [],
   "source": [
    "# 将resultArgList列表转换为字典，key为指标名称，value为空字符串\n",
    "resDict = dict(zip(resultArgList, [0] * len(resultArgList)))"
   ]
  },
  {
   "cell_type": "code",
   "execution_count": 21,
   "metadata": {},
   "outputs": [
    {
     "name": "stdout",
     "output_type": "stream",
     "text": [
      "#mlc_idle_latency: 0\n",
      "#openssl_sha256_size_16: 0\n",
      "#openssl_aes_256_size_16384: 0\n"
     ]
    }
   ],
   "source": [
    "showDict(resDict)"
   ]
  },
  {
   "cell_type": "code",
   "execution_count": 22,
   "metadata": {},
   "outputs": [],
   "source": [
    "# 将dimensionArgList列表转换为字典，key为指标名称，value为空字符串\n",
    "dimDict = dict(zip(dimensionArgList, [0] * len(dimensionArgList)))"
   ]
  },
  {
   "cell_type": "code",
   "execution_count": 23,
   "metadata": {},
   "outputs": [],
   "source": [
    "showDict(dimDict)"
   ]
  },
  {
   "cell_type": "code",
   "execution_count": 24,
   "metadata": {},
   "outputs": [],
   "source": [
    "# 获得keyTestT中的results列的json数据\n",
    "def getOutput(keyTestT, column, inputStandardDict):\n",
    "    errornum = 0\n",
    "    res=[]\n",
    "    for index, row in tqdm.tqdm(keyTestT.iterrows(), total=keyTestT.shape[0]):\n",
    "        data = row[column]\n",
    "        resDict = inputStandardDict.copy()\n",
    "        try:\n",
    "            jsonData = json.loads(data)\n",
    "            for key in resDict.keys():\n",
    "                if key in jsonData:\n",
    "                    # 判断jsonData[key]是否为合法数字，若是合法数字，则将其赋值给resDict[key]\n",
    "                    if isinstance(jsonData[key], (int, float)):\n",
    "                        resDict[key] = float(jsonData[key])\n",
    "        except:\n",
    "            errornum += 1\n",
    "        # 将resDict中所有的value值提取出来，放入resFeature中\n",
    "        resFeature = list(resDict.values())\n",
    "        res.append(resFeature)\n",
    "    print('json解析错误的数量：', errornum)\n",
    "    return res"
   ]
  },
  {
   "cell_type": "code",
   "execution_count": 25,
   "metadata": {},
   "outputs": [
    {
     "name": "stderr",
     "output_type": "stream",
     "text": [
      "100%|██████████| 50/50 [00:00<00:00, 4165.48it/s]"
     ]
    },
    {
     "name": "stdout",
     "output_type": "stream",
     "text": [
      "json解析错误的数量： 0\n"
     ]
    },
    {
     "name": "stderr",
     "output_type": "stream",
     "text": [
      "\n"
     ]
    }
   ],
   "source": [
    "output=getOutput(keyTestT, 'results', resDict)"
   ]
  },
  {
   "cell_type": "code",
   "execution_count": 26,
   "metadata": {},
   "outputs": [
    {
     "name": "stdout",
     "output_type": "stream",
     "text": [
      "[0, 0, 0, 0, 0, 0, 0, 0, 0, 0, 0, 0, 0, 0, 0, 0, 0, 0, 0, 0, 0, 0, 0, 0, 0, 0, 0, 0, 0, 0, 0, 0, 0, 0, 0, 0, 0, 0, 0, 0, 0, 0, 0, 0, 0, 0, 0, 0, 0, 0, 0, 0, 0, 0, 0, 0, 0, 0, 0, 0, 0, 0, 0, 1547599.39, 0, 0, 0, 0, 0]\n",
      "[0, 186794640.0, 169255520.0, 0, 0, 169277510.0, 53858.2, 1319133930.0, 98599460.0, 688029040.0, 169156.8, 169084740.0, 0, 0, 220491340.0, 0, 0, 0, 1138802430.0, 0, 0, 231.1, 10220.5, 0, 0, 1245835510.0, 523630360.0, 684749490.0, 0, 0, 168236760.0, 0, 1254420620.0, 5522915560.0, 216549540.0, 0, 166032790.0, 0, 0, 0, 0, 304494350.0, 876027720.0, 1564.2, 138796040.0, 0, 0, 221953720.0, 0, 0, 0, 221617310.0, 4550588950.0, 463084970.0, 156977930.0, 0, 0, 0, 0, 379233260.0, 221211400.0, 0, 0, 0, 0, 201371230.0, 14860.8, 25034650.0, 640550830.0]\n",
      "[0, 0, 0, 0, 0, 0, 0, 0, 0, 0, 0, 0, 0, 0, 0, 0, 0, 0, 0, 0, 0, 0, 0, 0, 0, 0, 0, 0, 18.0, 0, 0, 0, 0, 0, 0, 0, 0, 0, 0, 0, 0, 0, 0, 0, 0, 0, 0, 0, 0, 0, 0, 0, 0, 0, 0, 0, 0, 0, 0, 0, 0, 0, 0, 0, 0, 0, 0, 0, 0]\n",
      "[0, 0, 0, 0, 0, 0, 0, 0, 0, 0, 0, 0, 0, 0, 0, 0, 0, 0, 0, 0, 0, 0, 0, 0, 0, 0, 0, 0, 18.0, 0, 0, 0, 0, 0, 0, 0, 0, 0, 0, 0, 0, 0, 0, 0, 0, 0, 0, 0, 0, 0, 0, 0, 0, 0, 0, 0, 0, 0, 0, 0, 0, 0, 0, 0, 0, 0, 0, 0, 0]\n",
      "[90.6, 0, 0, 0, 0, 0, 0, 0, 0, 0, 0, 0, 0, 0, 0, 0, 0, 0, 0, 0, 0, 0, 0, 0, 0, 0, 0, 0, 0, 0, 0, 0, 0, 0, 0, 0, 0, 0, 0, 0, 0, 0, 0, 0, 0, 0, 0, 0, 0, 0, 0, 0, 0, 0, 0, 0, 0, 0, 0, 0, 0, 0, 0, 0, 0, 0, 0, 0, 0]\n",
      "[0, 0, 0, 0, 0, 0, 0, 0, 0, 0, 0, 0, 0, 0, 0, 0, 0, 0, 0, 0, 632609.0, 0, 0, 0, 0, 0, 0, 0, 0, 6567.0, 0, 0, 0, 0, 0, 0, 0, 0, 8341.0, 0, 0, 0, 0, 0, 0, 0, 0, 0, 0, 0, 0, 0, 0, 0, 0, 0, 0, 0, 0, 0, 0, 0, 0, 0, 0, 0, 0, 0, 0]\n",
      "[0, 0, 0, 0, 0, 0, 0, 0, 0, 0, 0, 0, 0, 0, 0, 0, 0, 0, 0, 0, 0, 0, 0, 0, 0, 0, 0, 0, 0, 0, 0, 0, 0, 0, 0, 0, 0, 0, 0, 0, 0, 0, 0, 0, 0, 0, 0, 0, 0, 0, 0, 0, 0, 0, 0, 0, 0, 0, 0, 0, 0, 0, 0, 74599.12, 0, 0, 0, 0, 0]\n",
      "[0, 0, 0, 0, 0, 0, 0, 0, 0, 0, 0, 0, 0, 0, 0, 0, 0, 0, 0, 0, 0, 0, 0, 0, 0, 0, 0, 0, 0, 0, 0, 0, 0, 0, 0, 0, 0, 0, 0, 0, 0, 0, 0, 0, 0, 0, 0, 0, 0, 0, 0, 0, 0, 0, 0, 3567.0, 0, 0, 0, 0, 0, 0, 0, 0, 0, 0, 0, 0, 0]\n",
      "[0, 0, 0, 0, 0, 0, 0, 0, 0, 0, 0, 0, 1004011.0, 0, 0, 0, 0, 3210.0, 0, 0, 0, 0, 0, 0, 0, 0, 0, 0, 0, 0, 0, 0, 0, 0, 0, 0, 0, 0, 0, 0, 0, 0, 0, 0, 0, 0, 0, 0, 0, 13.0, 0, 0, 0, 0, 0, 0, 82.0, 0, 0, 0, 0, 0, 0, 0, 0, 0, 0, 0, 0]\n",
      "[0, 0, 0, 0, 0, 0, 0, 0, 0, 0, 0, 0, 0, 0, 0, 0, 19.943, 0, 0, 0, 0, 0, 0, 0, 0, 0, 0, 0, 0, 0, 0, 0, 0, 0, 0, 0.001, 0, 0, 0, 0, 0, 0, 0, 0, 0, 0, 0, 0, 0, 0, 0, 0, 0, 0, 0, 0, 0, 0, 0, 0, 0, 0, 19.947, 0, 0, 0, 0, 0, 0]\n"
     ]
    }
   ],
   "source": [
    "showVec(output,10)"
   ]
  }
 ],
 "metadata": {
  "kernelspec": {
   "display_name": "DIP",
   "language": "python",
   "name": "python3"
  },
  "language_info": {
   "codemirror_mode": {
    "name": "ipython",
    "version": 3
   },
   "file_extension": ".py",
   "mimetype": "text/x-python",
   "name": "python",
   "nbconvert_exporter": "python",
   "pygments_lexer": "ipython3",
   "version": "3.6.15"
  },
  "orig_nbformat": 4
 },
 "nbformat": 4,
 "nbformat_minor": 2
}
